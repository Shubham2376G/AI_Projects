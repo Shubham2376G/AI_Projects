{
  "metadata": {
    "kernelspec": {
      "language": "python",
      "display_name": "Python 3",
      "name": "python3"
    },
    "language_info": {
      "pygments_lexer": "ipython3",
      "nbconvert_exporter": "python",
      "version": "3.6.4",
      "file_extension": ".py",
      "codemirror_mode": {
        "name": "ipython",
        "version": 3
      },
      "name": "python",
      "mimetype": "text/x-python"
    },
    "colab": {
      "provenance": []
    }
  },
  "nbformat_minor": 0,
  "nbformat": 4,
  "cells": [
    {
      "cell_type": "markdown",
      "source": [
        "![](https://i.pinimg.com/originals/29/19/5e/29195e898e78fe7fa5b1da9c5b6d6ba6.gif)"
      ],
      "metadata": {
        "id": "XpquHmNPIYOR"
      }
    },
    {
      "cell_type": "markdown",
      "source": [
        "## Importing Required Libraries\n",
        "<hr style=\"width:80%;border:1px solid black\"> </hr>"
      ],
      "metadata": {
        "id": "b43WvrKrIYOT"
      }
    },
    {
      "cell_type": "code",
      "source": [
        "#https://www.kaggle.com/code/kartik2khandelwal/ensemble-model-xgboost-catboost-lgbm"
      ],
      "metadata": {
        "id": "ORwSlMNfId4e"
      },
      "execution_count": null,
      "outputs": []
    },
    {
      "cell_type": "code",
      "source": [
        "# Mathematical Libraries needed for DataFrame\n",
        "import numpy as np\n",
        "import pandas as pd\n",
        "pd.set_option('display.max_columns', None)\n",
        "\n",
        "# Visualization Libraries\n",
        "import matplotlib.pyplot as plt\n",
        "import seaborn as sns\n",
        "sns.set_style('darkgrid')\n",
        "plt.style.use('dark_background')\n",
        "\n",
        "# Remove unnecessary warnings\n",
        "import warnings\n",
        "warnings.filterwarnings('ignore')\n",
        "\n",
        "# Display DataFrames\n",
        "from IPython.display import display, display_html\n",
        "\n",
        "# Encoding Categorical Variables\n",
        "from sklearn.preprocessing import LabelEncoder\n",
        "label = LabelEncoder()\n",
        "\n",
        "# Splitting Train-Test data\n",
        "from sklearn.model_selection import train_test_split\n",
        "\n",
        "# For Cross Validation\n",
        "from sklearn.model_selection import StratifiedKFold\n",
        "from sklearn.metrics import accuracy_score\n",
        "\n",
        "# For showing Progress Bar\n",
        "from tqdm.notebook import tqdm\n",
        "\n",
        "# Models\n",
        "import optuna\n",
        "import xgboost as xgb\n",
        "import lightgbm as lgbm\n",
        "import catboost as catb"
      ],
      "metadata": {
        "_uuid": "8f2839f25d086af736a60e9eeb907d3b93b6e0e5",
        "_cell_guid": "b1076dfc-b9ad-4769-8c92-a6c4dae69d19",
        "execution": {
          "iopub.status.busy": "2022-03-20T12:30:13.34209Z",
          "iopub.execute_input": "2022-03-20T12:30:13.34242Z",
          "iopub.status.idle": "2022-03-20T12:30:13.35293Z",
          "shell.execute_reply.started": "2022-03-20T12:30:13.342385Z",
          "shell.execute_reply": "2022-03-20T12:30:13.350671Z"
        },
        "trusted": true,
        "id": "YCnt8CsEIYOU"
      },
      "execution_count": null,
      "outputs": []
    },
    {
      "cell_type": "markdown",
      "source": [
        "## Helper Functions\n",
        "<hr style=\"width:80%;border:1px solid black\"> </hr>"
      ],
      "metadata": {
        "id": "0gSi7RawIYOW"
      }
    },
    {
      "cell_type": "code",
      "source": [
        "def outlier_viz(col):\n",
        "    '''Distribution and Boxplot for Outlier Detection by @kartik2khandelwal'''\n",
        "    import random\n",
        "    color = random.choice(['r', 'g', 'b'])\n",
        "    fig, ax = plt.subplots(1,2,figsize=(15,5))\n",
        "    sns.distplot(col, ax=ax[0], color=color)\n",
        "    sns.boxplot(col, ax=ax[1], color=color)\n",
        "    plt.suptitle('Distribution & Boxplot for Outlier Detection')\n",
        "    fig.show()\n",
        "    return None\n",
        "\n",
        "def my_print(s):\n",
        "    '''Custom print function by @kartik2khandelwal :)'''\n",
        "    a = 4\n",
        "    for i in s:\n",
        "        a+=1\n",
        "    return print('-' * a + '\\n' + '| ' + s + ' |' + '\\n' + '-' * a)"
      ],
      "metadata": {
        "execution": {
          "iopub.status.busy": "2022-03-20T12:30:13.355481Z",
          "iopub.execute_input": "2022-03-20T12:30:13.355925Z",
          "iopub.status.idle": "2022-03-20T12:30:13.385067Z",
          "shell.execute_reply.started": "2022-03-20T12:30:13.355891Z",
          "shell.execute_reply": "2022-03-20T12:30:13.384025Z"
        },
        "trusted": true,
        "id": "Skwj4G5QIYOW"
      },
      "execution_count": null,
      "outputs": []
    },
    {
      "cell_type": "markdown",
      "source": [
        "## Loading Dataset\n",
        "<hr style=\"width:80%;border:1px solid black\"> </hr>"
      ],
      "metadata": {
        "id": "3nIr9_VAIYOX"
      }
    },
    {
      "cell_type": "code",
      "source": [
        "df = pd.read_csv('../input/spaceship-titanic/train.csv')\n",
        "test_data = pd.read_csv('../input/spaceship-titanic/test.csv')\n",
        "df.head()"
      ],
      "metadata": {
        "execution": {
          "iopub.status.busy": "2022-03-20T12:30:13.386416Z",
          "iopub.execute_input": "2022-03-20T12:30:13.386775Z",
          "iopub.status.idle": "2022-03-20T12:30:13.493951Z",
          "shell.execute_reply.started": "2022-03-20T12:30:13.386742Z",
          "shell.execute_reply": "2022-03-20T12:30:13.49293Z"
        },
        "trusted": true,
        "id": "bbp-QR6NIYOX"
      },
      "execution_count": null,
      "outputs": []
    },
    {
      "cell_type": "markdown",
      "source": [
        "## Data Field Descriptions\n",
        "<hr style=\"width:80%;border:1px solid black\"> </hr>\n",
        "\n",
        "* **PassengerId** - A unique Id for each passenger. Each Id takes the form gggg_pp where gggg indicates a group the passenger is travelling with and pp is their number within the group. People in a group are often family members, but not always.\n",
        "* **HomePlanet** - The planet the passenger departed from, typically their planet of permanent residence.\n",
        "* **CryoSleep** - Indicates whether the passenger elected to be put into suspended animation for the duration of the voyage. Passengers in cryosleep are confined to their cabins.\n",
        "* **Cabin** - The cabin number where the passenger is staying. Takes the form deck/num/side, where side can be either P for Port or S for Starboard.\n",
        "* **Destination** - The planet the passenger will be debarking to.\n",
        "* **Age** - The age of the passenger.\n",
        "* **VIP** - Whether the passenger has paid for special VIP service during the voyage.\n",
        "* **RoomService**, **FoodCourt**, **ShoppingMall**, **Spa**, **VRDeck** - Amount the passenger has billed at each of the Spaceship Titanic's many luxury amenities.\n",
        "* **Name** - The first and last names of the passenger.\n",
        "* **Transported** - Whether the passenger was transported to another dimension. This is the target, the column you are trying to predict."
      ],
      "metadata": {
        "id": "lVFKY7xVIYOX"
      }
    },
    {
      "cell_type": "markdown",
      "source": [
        "## Exploratory Data Analysis\n",
        "<hr style=\"width:80%;border:1px solid black\"> </hr>"
      ],
      "metadata": {
        "id": "sY2FV8DaIYOY"
      }
    },
    {
      "cell_type": "code",
      "source": [
        "df.shape"
      ],
      "metadata": {
        "execution": {
          "iopub.status.busy": "2022-03-20T12:30:13.495923Z",
          "iopub.execute_input": "2022-03-20T12:30:13.496317Z",
          "iopub.status.idle": "2022-03-20T12:30:13.504512Z",
          "shell.execute_reply.started": "2022-03-20T12:30:13.496281Z",
          "shell.execute_reply": "2022-03-20T12:30:13.503677Z"
        },
        "trusted": true,
        "id": "qNmY4qLnIYOY"
      },
      "execution_count": null,
      "outputs": []
    },
    {
      "cell_type": "code",
      "source": [
        "df.info()"
      ],
      "metadata": {
        "execution": {
          "iopub.status.busy": "2022-03-20T12:30:13.506387Z",
          "iopub.execute_input": "2022-03-20T12:30:13.50672Z",
          "iopub.status.idle": "2022-03-20T12:30:13.540825Z",
          "shell.execute_reply.started": "2022-03-20T12:30:13.506681Z",
          "shell.execute_reply": "2022-03-20T12:30:13.539958Z"
        },
        "trusted": true,
        "id": "7kfgvXmBIYOY"
      },
      "execution_count": null,
      "outputs": []
    },
    {
      "cell_type": "code",
      "source": [
        "df.describe()"
      ],
      "metadata": {
        "execution": {
          "iopub.status.busy": "2022-03-20T12:30:13.541745Z",
          "iopub.execute_input": "2022-03-20T12:30:13.542688Z",
          "iopub.status.idle": "2022-03-20T12:30:13.573906Z",
          "shell.execute_reply.started": "2022-03-20T12:30:13.542613Z",
          "shell.execute_reply": "2022-03-20T12:30:13.572601Z"
        },
        "trusted": true,
        "id": "j1-VpR_YIYOZ"
      },
      "execution_count": null,
      "outputs": []
    },
    {
      "cell_type": "code",
      "source": [
        "plt.figure(figsize=(15,5))\n",
        "sns.heatmap(df.isnull().T, cmap='cool');"
      ],
      "metadata": {
        "execution": {
          "iopub.status.busy": "2022-03-20T12:30:13.575233Z",
          "iopub.execute_input": "2022-03-20T12:30:13.575499Z",
          "iopub.status.idle": "2022-03-20T12:30:17.089908Z",
          "shell.execute_reply.started": "2022-03-20T12:30:13.575468Z",
          "shell.execute_reply": "2022-03-20T12:30:17.088282Z"
        },
        "trusted": true,
        "id": "GBa8I8MeIYOZ"
      },
      "execution_count": null,
      "outputs": []
    },
    {
      "cell_type": "code",
      "source": [
        "plt.figure(figsize=(12,5))\n",
        "sns.heatmap(df.corr(), cmap='cool', annot=True, linewidth=0.2, linecolor='black');"
      ],
      "metadata": {
        "execution": {
          "iopub.status.busy": "2022-03-20T12:30:17.092204Z",
          "iopub.execute_input": "2022-03-20T12:30:17.092859Z",
          "iopub.status.idle": "2022-03-20T12:30:18.72517Z",
          "shell.execute_reply.started": "2022-03-20T12:30:17.092768Z",
          "shell.execute_reply": "2022-03-20T12:30:18.722553Z"
        },
        "trusted": true,
        "id": "gu_GptNhIYOZ"
      },
      "execution_count": null,
      "outputs": []
    },
    {
      "cell_type": "markdown",
      "source": [
        "## Data Visualization\n",
        "<hr style=\"width:80%;border:1px solid black\"> </hr>"
      ],
      "metadata": {
        "id": "WrMcd-T-IYOZ"
      }
    },
    {
      "cell_type": "markdown",
      "source": [
        "#### Target Variable"
      ],
      "metadata": {
        "id": "EYe_rWsgIYOa"
      }
    },
    {
      "cell_type": "code",
      "source": [
        "plt.figure(figsize=(8,3))\n",
        "sns.countplot(y = df['Transported'], palette='cool')\n",
        "plt.title('Checking Class Imbalance');"
      ],
      "metadata": {
        "execution": {
          "iopub.status.busy": "2022-03-20T12:30:18.729128Z",
          "iopub.execute_input": "2022-03-20T12:30:18.729525Z",
          "iopub.status.idle": "2022-03-20T12:30:19.056031Z",
          "shell.execute_reply.started": "2022-03-20T12:30:18.729491Z",
          "shell.execute_reply": "2022-03-20T12:30:19.053762Z"
        },
        "trusted": true,
        "id": "S4egv7gRIYOa"
      },
      "execution_count": null,
      "outputs": []
    },
    {
      "cell_type": "code",
      "source": [
        "cat = [i for i in df.drop(['PassengerId', 'Transported'], axis=1).columns if df[i].nunique() < 10]\n",
        "num = [i for i in df.drop(['PassengerId', 'Transported'], axis=1).columns if df[i].nunique() > 10]\n",
        "cat, num"
      ],
      "metadata": {
        "execution": {
          "iopub.status.busy": "2022-03-20T12:30:19.061259Z",
          "iopub.execute_input": "2022-03-20T12:30:19.062061Z",
          "iopub.status.idle": "2022-03-20T12:30:19.110524Z",
          "shell.execute_reply.started": "2022-03-20T12:30:19.061962Z",
          "shell.execute_reply": "2022-03-20T12:30:19.109338Z"
        },
        "trusted": true,
        "id": "SYfgA6V2IYOa"
      },
      "execution_count": null,
      "outputs": []
    },
    {
      "cell_type": "markdown",
      "source": [
        "### Categorical Data - Visualization"
      ],
      "metadata": {
        "id": "3Ql841BhIYOa"
      }
    },
    {
      "cell_type": "code",
      "source": [
        "plt.figure(figsize=(8,5))\n",
        "sns.countplot(df[cat[0]], palette='cool', hue=df['Transported']); #Most people are from"
      ],
      "metadata": {
        "execution": {
          "iopub.status.busy": "2022-03-20T12:30:19.112699Z",
          "iopub.execute_input": "2022-03-20T12:30:19.113666Z",
          "iopub.status.idle": "2022-03-20T12:30:19.505281Z",
          "shell.execute_reply.started": "2022-03-20T12:30:19.113616Z",
          "shell.execute_reply": "2022-03-20T12:30:19.504463Z"
        },
        "trusted": true,
        "id": "vKqKZU84IYOa"
      },
      "execution_count": null,
      "outputs": []
    },
    {
      "cell_type": "code",
      "source": [
        "plt.figure(figsize=(8,5))\n",
        "sns.countplot(df[cat[1]], palette='cool', hue=df['Transported']);"
      ],
      "metadata": {
        "execution": {
          "iopub.status.busy": "2022-03-20T12:30:19.50651Z",
          "iopub.execute_input": "2022-03-20T12:30:19.507183Z",
          "iopub.status.idle": "2022-03-20T12:30:19.877784Z",
          "shell.execute_reply.started": "2022-03-20T12:30:19.507152Z",
          "shell.execute_reply": "2022-03-20T12:30:19.875471Z"
        },
        "trusted": true,
        "id": "d1hi-vJVIYOb"
      },
      "execution_count": null,
      "outputs": []
    },
    {
      "cell_type": "code",
      "source": [
        "plt.figure(figsize=(8,5))\n",
        "sns.countplot(df[cat[2]], palette='cool', hue=df['Transported']);"
      ],
      "metadata": {
        "execution": {
          "iopub.status.busy": "2022-03-20T12:30:19.880312Z",
          "iopub.execute_input": "2022-03-20T12:30:19.880754Z",
          "iopub.status.idle": "2022-03-20T12:30:20.236138Z",
          "shell.execute_reply.started": "2022-03-20T12:30:19.880707Z",
          "shell.execute_reply": "2022-03-20T12:30:20.235097Z"
        },
        "trusted": true,
        "id": "-hH2M9_rIYOb"
      },
      "execution_count": null,
      "outputs": []
    },
    {
      "cell_type": "code",
      "source": [
        "plt.figure(figsize=(10,3))\n",
        "sns.countplot(y=df[cat[3]], palette='cool', hue=df['Transported']);"
      ],
      "metadata": {
        "execution": {
          "iopub.status.busy": "2022-03-20T12:30:20.237587Z",
          "iopub.execute_input": "2022-03-20T12:30:20.237858Z",
          "iopub.status.idle": "2022-03-20T12:30:20.788969Z",
          "shell.execute_reply.started": "2022-03-20T12:30:20.237827Z",
          "shell.execute_reply": "2022-03-20T12:30:20.784525Z"
        },
        "trusted": true,
        "id": "8zt7PJ73IYOb"
      },
      "execution_count": null,
      "outputs": []
    },
    {
      "cell_type": "markdown",
      "source": [
        "### Numerical Data - Visualization & Outlier Detection"
      ],
      "metadata": {
        "id": "Kd97I-vjIYOb"
      }
    },
    {
      "cell_type": "code",
      "source": [
        "outlier_viz(df[num[1]])"
      ],
      "metadata": {
        "execution": {
          "iopub.status.busy": "2022-03-20T12:30:20.793322Z",
          "iopub.execute_input": "2022-03-20T12:30:20.793748Z",
          "iopub.status.idle": "2022-03-20T12:30:22.106426Z",
          "shell.execute_reply.started": "2022-03-20T12:30:20.793703Z",
          "shell.execute_reply": "2022-03-20T12:30:22.104068Z"
        },
        "trusted": true,
        "id": "64cBa3H-IYOb"
      },
      "execution_count": null,
      "outputs": []
    },
    {
      "cell_type": "code",
      "source": [
        "outlier_viz(df[num[2]])"
      ],
      "metadata": {
        "execution": {
          "iopub.status.busy": "2022-03-20T12:30:22.109914Z",
          "iopub.execute_input": "2022-03-20T12:30:22.110489Z",
          "iopub.status.idle": "2022-03-20T12:30:23.062215Z",
          "shell.execute_reply.started": "2022-03-20T12:30:22.11044Z",
          "shell.execute_reply": "2022-03-20T12:30:23.060446Z"
        },
        "trusted": true,
        "id": "_ziTAr96IYOb"
      },
      "execution_count": null,
      "outputs": []
    },
    {
      "cell_type": "code",
      "source": [
        "outlier_viz(df[num[3]])"
      ],
      "metadata": {
        "execution": {
          "iopub.status.busy": "2022-03-20T12:30:23.063834Z",
          "iopub.execute_input": "2022-03-20T12:30:23.065009Z",
          "iopub.status.idle": "2022-03-20T12:30:24.284196Z",
          "shell.execute_reply.started": "2022-03-20T12:30:23.064925Z",
          "shell.execute_reply": "2022-03-20T12:30:24.277689Z"
        },
        "trusted": true,
        "id": "MzS35auKIYOc"
      },
      "execution_count": null,
      "outputs": []
    },
    {
      "cell_type": "code",
      "source": [
        "outlier_viz(df[num[4]])"
      ],
      "metadata": {
        "execution": {
          "iopub.status.busy": "2022-03-20T12:30:24.288271Z",
          "iopub.execute_input": "2022-03-20T12:30:24.288704Z",
          "iopub.status.idle": "2022-03-20T12:30:25.34956Z",
          "shell.execute_reply.started": "2022-03-20T12:30:24.288676Z",
          "shell.execute_reply": "2022-03-20T12:30:25.345735Z"
        },
        "trusted": true,
        "id": "FCK889SWIYOc"
      },
      "execution_count": null,
      "outputs": []
    },
    {
      "cell_type": "code",
      "source": [
        "outlier_viz(df[num[5]])"
      ],
      "metadata": {
        "execution": {
          "iopub.status.busy": "2022-03-20T12:30:25.359139Z",
          "iopub.execute_input": "2022-03-20T12:30:25.361687Z",
          "iopub.status.idle": "2022-03-20T12:30:26.091803Z",
          "shell.execute_reply.started": "2022-03-20T12:30:25.361629Z",
          "shell.execute_reply": "2022-03-20T12:30:26.090711Z"
        },
        "trusted": true,
        "id": "ihHtTFc3IYOc"
      },
      "execution_count": null,
      "outputs": []
    },
    {
      "cell_type": "code",
      "source": [
        "outlier_viz(df[num[6]])"
      ],
      "metadata": {
        "execution": {
          "iopub.status.busy": "2022-03-20T12:30:26.093306Z",
          "iopub.execute_input": "2022-03-20T12:30:26.094968Z",
          "iopub.status.idle": "2022-03-20T12:30:26.86389Z",
          "shell.execute_reply.started": "2022-03-20T12:30:26.094889Z",
          "shell.execute_reply": "2022-03-20T12:30:26.861647Z"
        },
        "trusted": true,
        "id": "9lxSL2QcIYOc"
      },
      "execution_count": null,
      "outputs": []
    },
    {
      "cell_type": "markdown",
      "source": [
        "### Observations\n",
        "> * Cabin - Special feature + needs some cleaning\n",
        "> * Age - Almost good disribution with no Outlier\n",
        "> * RoomService - Right Skewed with Outliers\n",
        "> * FoodCourt - Right Skewed with Outliers\n",
        "> * ShoopingMaal - Right Skewed with Outliers\n",
        "> * Spa - Right Skewed with Outliers\n",
        "> * Name - I don't think so, it will contribute much, but try to find some insights from it."
      ],
      "metadata": {
        "id": "AE5Wj0NDIYOc"
      }
    },
    {
      "cell_type": "markdown",
      "source": [
        "## Feature Engineering\n",
        "<hr style=\"width:80%;border:1px solid black\"> </hr>"
      ],
      "metadata": {
        "id": "XKwhXQQJIYOc"
      }
    },
    {
      "cell_type": "markdown",
      "source": [
        "#### As per the line - `People in a group are often family members, but not always`. So, taking the surname of each person name might be helpful, because probably the same surname people maybe family members.\n",
        "> **Random Thought** - I'm curious to know whether other planet's family members also have same surname ? 🤔🤔\n",
        "\n",
        "\n",
        "**Let's extract:**\n",
        "- `LastName` from `Name` column, and\n",
        "- `Group` from `PassengerId`"
      ],
      "metadata": {
        "id": "UC1sYPvfIYOc"
      }
    },
    {
      "cell_type": "markdown",
      "source": [
        "### Removing Null Values"
      ],
      "metadata": {
        "id": "FQVy8g12IYOd"
      }
    },
    {
      "cell_type": "code",
      "source": [
        "df['HomePlanet'].fillna('Earth', inplace=True)\n",
        "df['CryoSleep'].fillna(False, inplace=True)\n",
        "df['Destination'].fillna('TRAPPIST-1e', inplace=True)\n",
        "df['VIP'].fillna(False, inplace=True)\n",
        "df['Age'].fillna(24.0, inplace=True)"
      ],
      "metadata": {
        "execution": {
          "iopub.status.busy": "2022-03-20T12:30:26.866625Z",
          "iopub.execute_input": "2022-03-20T12:30:26.867004Z",
          "iopub.status.idle": "2022-03-20T12:30:26.888552Z",
          "shell.execute_reply.started": "2022-03-20T12:30:26.866966Z",
          "shell.execute_reply": "2022-03-20T12:30:26.886983Z"
        },
        "trusted": true,
        "id": "TWYWBlU1IYOf"
      },
      "execution_count": null,
      "outputs": []
    },
    {
      "cell_type": "code",
      "source": [
        "l = ['RoomService', 'FoodCourt', 'ShoppingMall', 'Spa', 'VRDeck']\n",
        "for i in l:\n",
        "    value = df[i].mean()\n",
        "    df[i] = df[i].fillna(value)"
      ],
      "metadata": {
        "execution": {
          "iopub.status.busy": "2022-03-20T12:30:26.890328Z",
          "iopub.execute_input": "2022-03-20T12:30:26.890633Z",
          "iopub.status.idle": "2022-03-20T12:30:26.930832Z",
          "shell.execute_reply.started": "2022-03-20T12:30:26.890599Z",
          "shell.execute_reply": "2022-03-20T12:30:26.929275Z"
        },
        "trusted": true,
        "id": "fhKhVDhGIYOf"
      },
      "execution_count": null,
      "outputs": []
    },
    {
      "cell_type": "code",
      "source": [
        "df.isnull().sum()"
      ],
      "metadata": {
        "execution": {
          "iopub.status.busy": "2022-03-20T12:30:26.934188Z",
          "iopub.execute_input": "2022-03-20T12:30:26.934552Z",
          "iopub.status.idle": "2022-03-20T12:30:26.979658Z",
          "shell.execute_reply.started": "2022-03-20T12:30:26.934518Z",
          "shell.execute_reply": "2022-03-20T12:30:26.977691Z"
        },
        "trusted": true,
        "id": "VzxaSPKxIYOg"
      },
      "execution_count": null,
      "outputs": []
    },
    {
      "cell_type": "markdown",
      "source": [
        "### Creating and Analysing New Features"
      ],
      "metadata": {
        "id": "0erEjHwLIYOh"
      }
    },
    {
      "cell_type": "code",
      "source": [
        "names = df['Name'].str.split(' ', expand=True)\n",
        "names.columns = ['FirstName', 'LastName']\n",
        "\n",
        "df = pd.concat([df, names['LastName']],axis=1)\n",
        "df['LastName'].fillna('None', inplace=True)"
      ],
      "metadata": {
        "execution": {
          "iopub.status.busy": "2022-03-20T12:30:26.98282Z",
          "iopub.execute_input": "2022-03-20T12:30:26.983144Z",
          "iopub.status.idle": "2022-03-20T12:30:27.032026Z",
          "shell.execute_reply.started": "2022-03-20T12:30:26.98311Z",
          "shell.execute_reply": "2022-03-20T12:30:27.028513Z"
        },
        "trusted": true,
        "id": "lcKzaW1kIYOh"
      },
      "execution_count": null,
      "outputs": []
    },
    {
      "cell_type": "code",
      "source": [
        "df[['Group', 'GroupNumber']] = df['PassengerId'].str.split('_', expand=True).astype('int32')"
      ],
      "metadata": {
        "execution": {
          "iopub.status.busy": "2022-03-20T12:30:27.034836Z",
          "iopub.execute_input": "2022-03-20T12:30:27.036815Z",
          "iopub.status.idle": "2022-03-20T12:30:27.090332Z",
          "shell.execute_reply.started": "2022-03-20T12:30:27.036697Z",
          "shell.execute_reply": "2022-03-20T12:30:27.086414Z"
        },
        "trusted": true,
        "id": "89YYRRsqIYOn"
      },
      "execution_count": null,
      "outputs": []
    },
    {
      "cell_type": "code",
      "source": [
        "df[['Group', 'LastName', 'Transported']].head()"
      ],
      "metadata": {
        "execution": {
          "iopub.status.busy": "2022-03-20T12:30:27.096005Z",
          "iopub.execute_input": "2022-03-20T12:30:27.099697Z",
          "iopub.status.idle": "2022-03-20T12:30:27.136673Z",
          "shell.execute_reply.started": "2022-03-20T12:30:27.099619Z",
          "shell.execute_reply": "2022-03-20T12:30:27.129898Z"
        },
        "trusted": true,
        "id": "Pvy3f_CyIYOn"
      },
      "execution_count": null,
      "outputs": []
    },
    {
      "cell_type": "code",
      "source": [
        "temp1 = df[['Group', 'LastName', 'Transported']][2:4].style.set_table_attributes(\"style='display:inline; margin-right:50px;'\").set_caption(\"Example - 1\")\n",
        "temp2 = df[['Group', 'LastName', 'Transported']][9:12].style.set_table_attributes(\"style='display:inline; margin-right:50px;'\").set_caption(\"Example - 2\")\n",
        "temp3 = df[['Group', 'LastName', 'Transported']][33:36].style.set_table_attributes(\"style='display:inline'\").set_caption(\"Example - 3\")\n",
        "\n",
        "display_html(temp1._repr_html_() + temp2._repr_html_() + temp3._repr_html_(), raw=True)"
      ],
      "metadata": {
        "execution": {
          "iopub.status.busy": "2022-03-20T12:30:27.139567Z",
          "iopub.execute_input": "2022-03-20T12:30:27.140108Z",
          "iopub.status.idle": "2022-03-20T12:30:27.194638Z",
          "shell.execute_reply.started": "2022-03-20T12:30:27.140076Z",
          "shell.execute_reply": "2022-03-20T12:30:27.18903Z"
        },
        "trusted": true,
        "id": "wdjZQx1iIYOo"
      },
      "execution_count": null,
      "outputs": []
    },
    {
      "cell_type": "markdown",
      "source": [
        "### Observation\n",
        "> - The trend can clearly be seen, that same group number have same surnames (or family members).\n",
        "> - I can also see that, the same family members are either transported or not.<br> Ex:- Consider a family of 2 people with surname 'Ben', it has been observed that if 1 person is transported(or not transported) the other is also transported(or not transported).<br>**PS** - I hope I make my point clear."
      ],
      "metadata": {
        "id": "xu7wnOy0IYOo"
      }
    },
    {
      "cell_type": "markdown",
      "source": [
        "#### Cleaning `Cabin` feature"
      ],
      "metadata": {
        "id": "Ve_sk2jIIYOo"
      }
    },
    {
      "cell_type": "code",
      "source": [
        "df[['CabinDeck', 'CabinNum', 'CabinSide']] = df['Cabin'].str.split('/', expand=True)\n",
        "df.drop(['Name', 'Cabin'], axis=1, inplace=True)"
      ],
      "metadata": {
        "execution": {
          "iopub.status.busy": "2022-03-20T12:30:27.198209Z",
          "iopub.execute_input": "2022-03-20T12:30:27.200341Z",
          "iopub.status.idle": "2022-03-20T12:30:27.287979Z",
          "shell.execute_reply.started": "2022-03-20T12:30:27.20026Z",
          "shell.execute_reply": "2022-03-20T12:30:27.281172Z"
        },
        "trusted": true,
        "id": "4AaBTJtlIYOo"
      },
      "execution_count": null,
      "outputs": []
    },
    {
      "cell_type": "code",
      "source": [
        "fig, ax = plt.subplots(1,3,figsize=(18,5))\n",
        "l = ['CabinDeck', 'CabinNum', 'CabinSide']\n",
        "sns.countplot(df[l[0]], ax=ax[0], palette='cool_r')\n",
        "sns.distplot(df[l[1]], ax=ax[1], color='blue')\n",
        "sns.countplot(df[l[2]], ax=ax[2], palette='cool', hue=df['Transported'])\n",
        "plt.suptitle('Cabin Feature');"
      ],
      "metadata": {
        "execution": {
          "iopub.status.busy": "2022-03-20T12:30:27.291948Z",
          "iopub.execute_input": "2022-03-20T12:30:27.292248Z",
          "iopub.status.idle": "2022-03-20T12:30:28.720112Z",
          "shell.execute_reply.started": "2022-03-20T12:30:27.292221Z",
          "shell.execute_reply": "2022-03-20T12:30:28.718085Z"
        },
        "trusted": true,
        "id": "pVTUmhXYIYOp"
      },
      "execution_count": null,
      "outputs": []
    },
    {
      "cell_type": "code",
      "source": [
        "df['AgeGroup'] = pd.cut(df['Age'], bins=20, labels=[i for i in range(1,21)])"
      ],
      "metadata": {
        "execution": {
          "iopub.status.busy": "2022-03-20T12:30:28.722389Z",
          "iopub.execute_input": "2022-03-20T12:30:28.72267Z",
          "iopub.status.idle": "2022-03-20T12:30:28.744972Z",
          "shell.execute_reply.started": "2022-03-20T12:30:28.722642Z",
          "shell.execute_reply": "2022-03-20T12:30:28.742336Z"
        },
        "trusted": true,
        "id": "2BU1SlfuIYOp"
      },
      "execution_count": null,
      "outputs": []
    },
    {
      "cell_type": "code",
      "source": [
        "df['CabinDeck'] = df['CabinDeck'].fillna('F')\n",
        "df['CabinSide'] = df['CabinSide'].fillna('S')\n",
        "df['CabinNum'] = df['CabinNum'].fillna('82')\n",
        "df.isnull().sum()"
      ],
      "metadata": {
        "execution": {
          "iopub.status.busy": "2022-03-20T12:30:28.746927Z",
          "iopub.execute_input": "2022-03-20T12:30:28.747195Z",
          "iopub.status.idle": "2022-03-20T12:30:28.800121Z",
          "shell.execute_reply.started": "2022-03-20T12:30:28.747159Z",
          "shell.execute_reply": "2022-03-20T12:30:28.798926Z"
        },
        "trusted": true,
        "id": "DFWjnN1HIYOp"
      },
      "execution_count": null,
      "outputs": []
    },
    {
      "cell_type": "code",
      "source": [
        "df['CabinNum'] = df['CabinNum'].astype('int64')\n",
        "df['AgeGroup'] = df['AgeGroup'].astype('int64')"
      ],
      "metadata": {
        "execution": {
          "iopub.status.busy": "2022-03-20T12:30:28.801331Z",
          "iopub.execute_input": "2022-03-20T12:30:28.801581Z",
          "iopub.status.idle": "2022-03-20T12:30:28.828565Z",
          "shell.execute_reply.started": "2022-03-20T12:30:28.801555Z",
          "shell.execute_reply": "2022-03-20T12:30:28.826299Z"
        },
        "trusted": true,
        "id": "5ctgN1oNIYOp"
      },
      "execution_count": null,
      "outputs": []
    },
    {
      "cell_type": "code",
      "source": [
        "df['TotalAmount'] = df['RoomService'] + df['FoodCourt'] + df['ShoppingMall'] + df['Spa'] + df['VRDeck']"
      ],
      "metadata": {
        "execution": {
          "iopub.status.busy": "2022-03-20T12:30:28.831791Z",
          "iopub.execute_input": "2022-03-20T12:30:28.832209Z",
          "iopub.status.idle": "2022-03-20T12:30:28.903716Z",
          "shell.execute_reply.started": "2022-03-20T12:30:28.832171Z",
          "shell.execute_reply": "2022-03-20T12:30:28.90062Z"
        },
        "trusted": true,
        "id": "HZbtVPkwIYOq"
      },
      "execution_count": null,
      "outputs": []
    },
    {
      "cell_type": "code",
      "source": [
        "for i in ['RoomService', 'FoodCourt', 'ShoppingMall', 'Spa', 'VRDeck']:\n",
        "    df[f'{i}Used'] = df[i].apply(lambda x:1 if x>0 else 0)\n",
        "df.head()"
      ],
      "metadata": {
        "execution": {
          "iopub.status.busy": "2022-03-20T12:30:28.904995Z",
          "iopub.execute_input": "2022-03-20T12:30:28.905418Z",
          "iopub.status.idle": "2022-03-20T12:30:29.061857Z",
          "shell.execute_reply.started": "2022-03-20T12:30:28.905345Z",
          "shell.execute_reply": "2022-03-20T12:30:29.058649Z"
        },
        "trusted": true,
        "id": "dVzCPn6DIYOq"
      },
      "execution_count": null,
      "outputs": []
    },
    {
      "cell_type": "code",
      "source": [
        "df.isnull().sum().sum()"
      ],
      "metadata": {
        "execution": {
          "iopub.status.busy": "2022-03-20T12:30:29.068094Z",
          "iopub.execute_input": "2022-03-20T12:30:29.070087Z",
          "iopub.status.idle": "2022-03-20T12:30:29.110792Z",
          "shell.execute_reply.started": "2022-03-20T12:30:29.070007Z",
          "shell.execute_reply": "2022-03-20T12:30:29.108093Z"
        },
        "trusted": true,
        "id": "4TzrGgN0IYOq"
      },
      "execution_count": null,
      "outputs": []
    },
    {
      "cell_type": "markdown",
      "source": [
        "## Feature Encoding\n",
        "<hr style=\"width:80%;border:1px solid black\"> </hr>"
      ],
      "metadata": {
        "id": "2NJu0UIMIYOr"
      }
    },
    {
      "cell_type": "code",
      "source": [
        "planet = pd.get_dummies(df['HomePlanet'], drop_first=True)\n",
        "desti = pd.get_dummies(df['Destination'], drop_first=True)\n",
        "side = pd.get_dummies(df['CabinSide'], drop_first=True)"
      ],
      "metadata": {
        "execution": {
          "iopub.status.busy": "2022-03-20T12:30:29.11749Z",
          "iopub.execute_input": "2022-03-20T12:30:29.11888Z",
          "iopub.status.idle": "2022-03-20T12:30:29.136632Z",
          "shell.execute_reply.started": "2022-03-20T12:30:29.118814Z",
          "shell.execute_reply": "2022-03-20T12:30:29.135771Z"
        },
        "trusted": true,
        "id": "RfnyfgpoIYOr"
      },
      "execution_count": null,
      "outputs": []
    },
    {
      "cell_type": "code",
      "source": [
        "df = pd.concat([df, planet, desti, side], axis=1)\n",
        "df.drop(['HomePlanet', 'Destination', 'CabinSide'], axis=1, inplace=True)\n",
        "df.head()"
      ],
      "metadata": {
        "execution": {
          "iopub.status.busy": "2022-03-20T12:30:29.139474Z",
          "iopub.execute_input": "2022-03-20T12:30:29.14304Z",
          "iopub.status.idle": "2022-03-20T12:30:29.224328Z",
          "shell.execute_reply.started": "2022-03-20T12:30:29.142647Z",
          "shell.execute_reply": "2022-03-20T12:30:29.223468Z"
        },
        "trusted": true,
        "id": "x631pVtvIYOr"
      },
      "execution_count": null,
      "outputs": []
    },
    {
      "cell_type": "code",
      "source": [
        "df['LastName'] = label.fit_transform(df['LastName'])\n",
        "df['CabinDeck'] = label.fit_transform(df['CabinDeck'])"
      ],
      "metadata": {
        "execution": {
          "iopub.status.busy": "2022-03-20T12:30:29.225534Z",
          "iopub.execute_input": "2022-03-20T12:30:29.226102Z",
          "iopub.status.idle": "2022-03-20T12:30:29.242408Z",
          "shell.execute_reply.started": "2022-03-20T12:30:29.226066Z",
          "shell.execute_reply": "2022-03-20T12:30:29.240582Z"
        },
        "trusted": true,
        "id": "rbbDMfqTIYOr"
      },
      "execution_count": null,
      "outputs": []
    },
    {
      "cell_type": "code",
      "source": [
        "df['CryoSleep'] = df['CryoSleep'].map({True:1, False:0})\n",
        "df['VIP'] = df['VIP'].map({True:1, False:0})\n",
        "df['Transported'] = df['Transported'].map({True:1, False:0})"
      ],
      "metadata": {
        "execution": {
          "iopub.status.busy": "2022-03-20T12:30:29.24431Z",
          "iopub.execute_input": "2022-03-20T12:30:29.244854Z",
          "iopub.status.idle": "2022-03-20T12:30:29.284465Z",
          "shell.execute_reply.started": "2022-03-20T12:30:29.244816Z",
          "shell.execute_reply": "2022-03-20T12:30:29.282124Z"
        },
        "trusted": true,
        "id": "M0k2JjW7IYOs"
      },
      "execution_count": null,
      "outputs": []
    },
    {
      "cell_type": "code",
      "source": [
        "df.head()"
      ],
      "metadata": {
        "execution": {
          "iopub.status.busy": "2022-03-20T12:30:29.290009Z",
          "iopub.execute_input": "2022-03-20T12:30:29.291476Z",
          "iopub.status.idle": "2022-03-20T12:30:29.369764Z",
          "shell.execute_reply.started": "2022-03-20T12:30:29.291351Z",
          "shell.execute_reply": "2022-03-20T12:30:29.367685Z"
        },
        "trusted": true,
        "id": "wBOw2x4JIYOs"
      },
      "execution_count": null,
      "outputs": []
    },
    {
      "cell_type": "code",
      "source": [
        "df.to_csv('train_cleaned.csv')"
      ],
      "metadata": {
        "execution": {
          "iopub.status.busy": "2022-03-20T12:30:29.372686Z",
          "iopub.execute_input": "2022-03-20T12:30:29.372991Z",
          "iopub.status.idle": "2022-03-20T12:30:29.467438Z",
          "shell.execute_reply.started": "2022-03-20T12:30:29.372962Z",
          "shell.execute_reply": "2022-03-20T12:30:29.465346Z"
        },
        "trusted": true,
        "id": "35nhDu47IYOs"
      },
      "execution_count": null,
      "outputs": []
    },
    {
      "cell_type": "markdown",
      "source": [
        "## Preprocessing Test Data\n",
        "<hr style=\"width:80%;border:1px solid black\"> </hr>"
      ],
      "metadata": {
        "id": "0hIZyVllIYOt"
      }
    },
    {
      "cell_type": "code",
      "source": [
        "test_data.head()"
      ],
      "metadata": {
        "execution": {
          "iopub.status.busy": "2022-03-20T12:30:29.469543Z",
          "iopub.execute_input": "2022-03-20T12:30:29.469878Z",
          "iopub.status.idle": "2022-03-20T12:30:29.523352Z",
          "shell.execute_reply.started": "2022-03-20T12:30:29.469844Z",
          "shell.execute_reply": "2022-03-20T12:30:29.521985Z"
        },
        "trusted": true,
        "id": "pXvdf4U0IYOt"
      },
      "execution_count": null,
      "outputs": []
    },
    {
      "cell_type": "code",
      "source": [
        "test_data['HomePlanet'].fillna('Earth', inplace=True)\n",
        "test_data['CryoSleep'].fillna(False, inplace=True)\n",
        "test_data['Destination'].fillna('TRAPPIST-1e', inplace=True)\n",
        "test_data['VIP'].fillna(False, inplace=True)\n",
        "test_data['Age'].fillna(24.0, inplace=True)\n",
        "\n",
        "l = ['RoomService', 'FoodCourt', 'ShoppingMall', 'Spa', 'VRDeck']\n",
        "for i in l:\n",
        "    value = test_data[i].mean()\n",
        "    test_data[i] = test_data[i].fillna(value)\n",
        "\n",
        "names = test_data['Name'].str.split(' ', expand=True)\n",
        "names.columns = ['FirstName', 'LastName']\n",
        "\n",
        "test_data = pd.concat([test_data, names['LastName']],axis=1)\n",
        "test_data['LastName'].fillna('None', inplace=True)\n",
        "\n",
        "test_data[['Group', 'GroupNumber']] = test_data['PassengerId'].str.split('_', expand=True).astype('int32')\n",
        "\n",
        "test_data[['CabinDeck', 'CabinNum', 'CabinSide']] = test_data['Cabin'].str.split('/', expand=True)\n",
        "test_data.drop(['Name', 'Cabin'], axis=1, inplace=True)\n",
        "\n",
        "test_data['AgeGroup'] = pd.cut(test_data['Age'], bins=20, labels=[i for i in range(1,21)])\n",
        "\n",
        "test_data['CabinDeck'] = test_data['CabinDeck'].fillna('F')\n",
        "test_data['CabinSide'] = test_data['CabinSide'].fillna('S')\n",
        "test_data['CabinNum'] = test_data['CabinNum'].fillna('82')\n",
        "\n",
        "test_data['CabinNum'] = test_data['CabinNum'].astype('int64')\n",
        "test_data['AgeGroup'] = test_data['AgeGroup'].astype('int64')\n",
        "\n",
        "test_data['TotalAmount'] = test_data['RoomService'] + test_data['FoodCourt'] + test_data['ShoppingMall'] + test_data['Spa'] + test_data['VRDeck']\n",
        "\n",
        "for i in ['RoomService', 'FoodCourt', 'ShoppingMall', 'Spa', 'VRDeck']:\n",
        "    test_data[f'{i}Used'] = test_data[i].apply(lambda x:1 if x>0 else 0)\n",
        "\n",
        "planet = pd.get_dummies(test_data['HomePlanet'], drop_first=True)\n",
        "desti = pd.get_dummies(test_data['Destination'], drop_first=True)\n",
        "side = pd.get_dummies(test_data['CabinSide'], drop_first=True)\n",
        "\n",
        "test_data = pd.concat([test_data, planet, desti, side], axis=1)\n",
        "test_data.drop(['HomePlanet', 'Destination', 'CabinSide'], axis=1, inplace=True)\n",
        "\n",
        "test_data['LastName'] = label.fit_transform(test_data['LastName'])\n",
        "test_data['CabinDeck'] = label.fit_transform(test_data['CabinDeck'])\n",
        "\n",
        "test_data['CryoSleep'] = test_data['CryoSleep'].map({True:1, False:0})\n",
        "test_data['VIP'] = test_data['VIP'].map({True:1, False:0})"
      ],
      "metadata": {
        "execution": {
          "iopub.status.busy": "2022-03-20T12:30:29.527532Z",
          "iopub.execute_input": "2022-03-20T12:30:29.528068Z",
          "iopub.status.idle": "2022-03-20T12:30:29.769091Z",
          "shell.execute_reply.started": "2022-03-20T12:30:29.528036Z",
          "shell.execute_reply": "2022-03-20T12:30:29.76693Z"
        },
        "trusted": true,
        "id": "bite7W3eIYOt"
      },
      "execution_count": null,
      "outputs": []
    },
    {
      "cell_type": "code",
      "source": [
        "X_test = test_data.drop('PassengerId', axis=1)\n",
        "X_test.head()"
      ],
      "metadata": {
        "execution": {
          "iopub.status.busy": "2022-03-20T12:30:29.773285Z",
          "iopub.execute_input": "2022-03-20T12:30:29.773689Z",
          "iopub.status.idle": "2022-03-20T12:30:29.808397Z",
          "shell.execute_reply.started": "2022-03-20T12:30:29.773661Z",
          "shell.execute_reply": "2022-03-20T12:30:29.807308Z"
        },
        "trusted": true,
        "id": "sSCpw5hqIYOu"
      },
      "execution_count": null,
      "outputs": []
    },
    {
      "cell_type": "code",
      "source": [
        "test_data.to_csv('test_cleaned.csv')"
      ],
      "metadata": {
        "execution": {
          "iopub.status.busy": "2022-03-20T12:30:29.809814Z",
          "iopub.execute_input": "2022-03-20T12:30:29.810312Z",
          "iopub.status.idle": "2022-03-20T12:30:29.862752Z",
          "shell.execute_reply.started": "2022-03-20T12:30:29.81028Z",
          "shell.execute_reply": "2022-03-20T12:30:29.861565Z"
        },
        "trusted": true,
        "id": "PUOb4FOeIYOu"
      },
      "execution_count": null,
      "outputs": []
    },
    {
      "cell_type": "markdown",
      "source": [
        "## Splitting Dependent and Independent Variable\n",
        "<hr style=\"width:80%;border:1px solid black\"> </hr>"
      ],
      "metadata": {
        "id": "RlmF09MfIYOu"
      }
    },
    {
      "cell_type": "code",
      "source": [
        "X = df.drop(['PassengerId', 'Transported'], axis=1)\n",
        "y = df['Transported']"
      ],
      "metadata": {
        "execution": {
          "iopub.status.busy": "2022-03-20T12:30:29.863976Z",
          "iopub.execute_input": "2022-03-20T12:30:29.864189Z",
          "iopub.status.idle": "2022-03-20T12:30:29.873532Z",
          "shell.execute_reply.started": "2022-03-20T12:30:29.864162Z",
          "shell.execute_reply": "2022-03-20T12:30:29.871754Z"
        },
        "trusted": true,
        "id": "7rvSn4B2IYOv"
      },
      "execution_count": null,
      "outputs": []
    },
    {
      "cell_type": "markdown",
      "source": [
        "## Splitting Train and Validation data\n",
        "<hr style=\"width:80%;border:1px solid black\"> </hr>"
      ],
      "metadata": {
        "id": "Yo17JC8yIYOv"
      }
    },
    {
      "cell_type": "code",
      "source": [
        "X_train, X_valid, y_train, y_valid = train_test_split(X, y, test_size=0.2, random_state=24)"
      ],
      "metadata": {
        "execution": {
          "iopub.status.busy": "2022-03-20T12:30:29.875004Z",
          "iopub.execute_input": "2022-03-20T12:30:29.875777Z",
          "iopub.status.idle": "2022-03-20T12:30:29.898161Z",
          "shell.execute_reply.started": "2022-03-20T12:30:29.875735Z",
          "shell.execute_reply": "2022-03-20T12:30:29.896588Z"
        },
        "trusted": true,
        "id": "Quhy2GRRIYOv"
      },
      "execution_count": null,
      "outputs": []
    },
    {
      "cell_type": "markdown",
      "source": [
        "## Model Buliding\n",
        "<hr style=\"width:80%;border:1px solid black\"> </hr>\n",
        "\n",
        "\n",
        "#### NOTE - You can use the below code cells for getting hyperparameters of XGBoost, LGBM & CatBoost using Optuna."
      ],
      "metadata": {
        "id": "eWfZER5wIYOv"
      }
    },
    {
      "cell_type": "markdown",
      "source": [
        "- <h3>XGBoost"
      ],
      "metadata": {
        "id": "3QaRsH3hIYOw"
      }
    },
    {
      "cell_type": "code",
      "source": [
        "# import optuna\n",
        "# import xgboost as xgb\n",
        "# import lightgbm as lgbm\n",
        "\n",
        "# dtrain = xgb.DMatrix(X_train, label=y_train)\n",
        "# dvalid  = xgb.DMatrix(X_valid, label=y_valid)\n",
        "\n",
        "# def objective(trial):\n",
        "\n",
        "#     param = {\n",
        "#         \"verbosity\": 0,\n",
        "#         \"objective\": \"multi:softmax\",\n",
        "#         \"num_class\": 5,\n",
        "#         'max_depth': trial.suggest_int('max_depth', 2, 15),\n",
        "#         'n_estimators': 10,\n",
        "#         # L2 regularization weight.\n",
        "#         \"lambda\": trial.suggest_float(\"lambda\", 1e-8, 1.0, log=True),\n",
        "#         # L1 regularization weight.\n",
        "#         \"alpha\": trial.suggest_float(\"alpha\", 1e-8, 1.0, log=True),\n",
        "#         # sampling ratio for training data.\n",
        "#         \"subsample\": trial.suggest_float(\"subsample\", 0.6, 1.0),\n",
        "#         # sampling according to each tree.\n",
        "#         \"colsample_bytree\": trial.suggest_float(\"colsample_bytree\", 0.2, 1.0),\n",
        "#         'min_child_weight': trial.suggest_int('min_child_weight', 2, 20)\n",
        "#     }\n",
        "\n",
        "#     bst = xgb.train(param, dtrain)\n",
        "#     preds = bst.predict(dvalid)\n",
        "#     pred_labels = np.rint(preds)\n",
        "#     accuracy = accuracy_score(y_valid, pred_labels)\n",
        "#     return accuracy"
      ],
      "metadata": {
        "_kg_hide-input": true,
        "execution": {
          "iopub.status.busy": "2022-03-20T12:30:32.014143Z",
          "iopub.execute_input": "2022-03-20T12:30:32.014431Z",
          "iopub.status.idle": "2022-03-20T12:30:32.039655Z",
          "shell.execute_reply.started": "2022-03-20T12:30:32.014397Z",
          "shell.execute_reply": "2022-03-20T12:30:32.038037Z"
        },
        "trusted": true,
        "id": "m29LRWFLIYOw"
      },
      "execution_count": null,
      "outputs": []
    },
    {
      "cell_type": "markdown",
      "source": [
        "- <h3> LightGBM"
      ],
      "metadata": {
        "id": "_EF-eOFhIYOw"
      }
    },
    {
      "cell_type": "code",
      "source": [
        "# import optuna\n",
        "# import lightgbm as lgbm\n",
        "\n",
        "# def objective(trial):\n",
        "\n",
        "#     param = {\n",
        "#             'metric': 'auc',\n",
        "#             'random_state': 24,\n",
        "#             'n_estimators': 40000,\n",
        "#             'boosting_type': trial.suggest_categorical(\"boosting_type\", [\"gbdt\"]),\n",
        "#             'lambda_l1': trial.suggest_loguniform('lambda_l1', 1e-3, 10.0),\n",
        "#             'lambda_l2': trial.suggest_loguniform('lambda_l2', 1e-3, 10.0),\n",
        "#             'colsample_bytree': trial.suggest_categorical('colsample_bytree', [0.5, 0.6, 0.7, 0.8, 0.9, 1.0]),\n",
        "#             'bagging_fraction': trial.suggest_categorical('bagging_fraction', [0.6, 0.7, 0.80]),\n",
        "#             'feature_fraction': trial.suggest_categorical('feature_fraction', [0.6, 0.7, 0.80]),\n",
        "#             'learning_rate': trial.suggest_loguniform('learning_rate', 1e-3 , 10),\n",
        "#             'max_depth': trial.suggest_int('max_depth', 2, 12, step=1),\n",
        "#             'num_leaves' : trial.suggest_int('num_leaves', 13, 148, step=5),\n",
        "#             'min_child_samples': trial.suggest_int('min_child_samples', 1, 96, step=5),\n",
        "#         }\n",
        "\n",
        "#     clf = lgbm.LGBMClassifier(**param)\n",
        "#     clf.fit(X_train, y_train)\n",
        "\n",
        "#     preds = clf.predict(X_valid)\n",
        "#     pred_labels = np.rint(preds)\n",
        "#     accuracy = accuracy_score(y_valid, pred_labels)\n",
        "#     return accuracy"
      ],
      "metadata": {
        "_kg_hide-input": true,
        "execution": {
          "iopub.status.busy": "2022-03-20T12:30:32.041165Z",
          "iopub.execute_input": "2022-03-20T12:30:32.041453Z",
          "iopub.status.idle": "2022-03-20T12:30:32.075959Z",
          "shell.execute_reply.started": "2022-03-20T12:30:32.041415Z",
          "shell.execute_reply": "2022-03-20T12:30:32.074529Z"
        },
        "trusted": true,
        "id": "2imdvXqaIYO3"
      },
      "execution_count": null,
      "outputs": []
    },
    {
      "cell_type": "markdown",
      "source": [
        "- <h3> CatBoost"
      ],
      "metadata": {
        "id": "7s9nV5lBIYO4"
      }
    },
    {
      "cell_type": "code",
      "source": [
        "# import optuna\n",
        "# import catboost as catb\n",
        "\n",
        "# def objective(trial):\n",
        "\n",
        "#     param = {\n",
        "#         \"objective\": trial.suggest_categorical(\"objective\", [\"Logloss\", \"CrossEntropy\"]),\n",
        "#         \"colsample_bylevel\": trial.suggest_float(\"colsample_bylevel\", 0.01, 0.1),\n",
        "#         \"depth\": trial.suggest_int(\"depth\", 1, 12),\n",
        "#         \"boosting_type\": trial.suggest_categorical(\"boosting_type\", [\"Ordered\", \"Plain\"]),\n",
        "#         \"bootstrap_type\": trial.suggest_categorical(\n",
        "#             \"bootstrap_type\", [\"Bayesian\", \"Bernoulli\", \"MVS\"]\n",
        "#         ),\n",
        "#         \"used_ram_limit\": \"3gb\",\n",
        "#     }\n",
        "\n",
        "#     if param[\"bootstrap_type\"] == \"Bayesian\":\n",
        "#         param[\"bagging_temperature\"] = trial.suggest_float(\"bagging_temperature\", 0, 10)\n",
        "#     elif param[\"bootstrap_type\"] == \"Bernoulli\":\n",
        "#         param[\"subsample\"] = trial.suggest_float(\"subsample\", 0.1, 1)\n",
        "\n",
        "#     clf = catb.CatBoostClassifier(**param)\n",
        "#     clf.fit(X_train, y_train)\n",
        "\n",
        "#     preds = clf.predict(X_valid)\n",
        "#     pred_labels = np.rint(preds)\n",
        "#     accuracy = accuracy_score(y_valid, pred_labels)\n",
        "#     return accuracy"
      ],
      "metadata": {
        "_kg_hide-input": true,
        "execution": {
          "iopub.status.busy": "2022-03-20T12:30:32.080413Z",
          "iopub.execute_input": "2022-03-20T12:30:32.082144Z",
          "iopub.status.idle": "2022-03-20T12:30:32.105941Z",
          "shell.execute_reply.started": "2022-03-20T12:30:32.082072Z",
          "shell.execute_reply": "2022-03-20T12:30:32.104248Z"
        },
        "trusted": true,
        "id": "Cu_c-dx6IYO4"
      },
      "execution_count": null,
      "outputs": []
    },
    {
      "cell_type": "code",
      "source": [
        "# %%time\n",
        "# study = optuna.create_study(direction=\"maximize\")\n",
        "# study.optimize(objective, n_trials=100, show_progress_bar=True)"
      ],
      "metadata": {
        "_kg_hide-output": true,
        "scrolled": true,
        "_kg_hide-input": true,
        "execution": {
          "iopub.status.busy": "2022-03-20T12:30:32.109244Z",
          "iopub.execute_input": "2022-03-20T12:30:32.109843Z",
          "iopub.status.idle": "2022-03-20T12:30:32.134869Z",
          "shell.execute_reply.started": "2022-03-20T12:30:32.109797Z",
          "shell.execute_reply": "2022-03-20T12:30:32.133039Z"
        },
        "trusted": true,
        "id": "a6us5ygqIYO5"
      },
      "execution_count": null,
      "outputs": []
    },
    {
      "cell_type": "code",
      "source": [
        "# new_param = study.best_params\n",
        "# new_param"
      ],
      "metadata": {
        "_kg_hide-input": true,
        "execution": {
          "iopub.status.busy": "2022-03-20T12:30:32.136723Z",
          "iopub.execute_input": "2022-03-20T12:30:32.13741Z",
          "iopub.status.idle": "2022-03-20T12:30:32.154976Z",
          "shell.execute_reply.started": "2022-03-20T12:30:32.137235Z",
          "shell.execute_reply": "2022-03-20T12:30:32.152977Z"
        },
        "trusted": true,
        "id": "3fkRo8vBIYO5"
      },
      "execution_count": null,
      "outputs": []
    },
    {
      "cell_type": "code",
      "source": [
        "# optuna.visualization.plot_optimization_history(study)"
      ],
      "metadata": {
        "_kg_hide-input": true,
        "execution": {
          "iopub.status.busy": "2022-03-20T12:30:32.156534Z",
          "iopub.execute_input": "2022-03-20T12:30:32.157217Z",
          "iopub.status.idle": "2022-03-20T12:30:32.175794Z",
          "shell.execute_reply.started": "2022-03-20T12:30:32.15717Z",
          "shell.execute_reply": "2022-03-20T12:30:32.174798Z"
        },
        "trusted": true,
        "id": "gjR8A7eIIYO7"
      },
      "execution_count": null,
      "outputs": []
    },
    {
      "cell_type": "code",
      "source": [
        "# optuna.visualization.plot_slice(study)"
      ],
      "metadata": {
        "_kg_hide-input": true,
        "execution": {
          "iopub.status.busy": "2022-03-20T12:30:32.176889Z",
          "iopub.execute_input": "2022-03-20T12:30:32.177102Z",
          "iopub.status.idle": "2022-03-20T12:30:32.196017Z",
          "shell.execute_reply.started": "2022-03-20T12:30:32.177074Z",
          "shell.execute_reply": "2022-03-20T12:30:32.195027Z"
        },
        "trusted": true,
        "id": "4gl57J9gIYO7"
      },
      "execution_count": null,
      "outputs": []
    },
    {
      "cell_type": "markdown",
      "source": [
        "## Model Parameters\n",
        "<hr style=\"width:80%;border:1px solid black\"> </hr>"
      ],
      "metadata": {
        "id": "R0EVu23CIYO8"
      }
    },
    {
      "cell_type": "code",
      "source": [
        "lgbm_param = {'boosting_type': 'gbdt',\n",
        " 'lambda_l1': 0.134746148489252,\n",
        " 'lambda_l2': 0.10521615726990495,\n",
        " 'colsample_bytree': 0.8,\n",
        " 'bagging_fraction': 0.7,\n",
        " 'feature_fraction': 0.6,\n",
        " 'learning_rate': 0.001019958066572347,\n",
        " 'max_depth': 9,\n",
        " 'num_leaves': 23,\n",
        " 'min_child_samples': 46}\n",
        "\n",
        "xgb_param = {'max_depth': 6,\n",
        " 'lambda': 4.5909601357645e-06,\n",
        " 'alpha': 0.011683603658842521,\n",
        " 'subsample': 0.6631109810494799,\n",
        " 'colsample_bytree': 0.3964625968646961,\n",
        " 'n_estimators': 16,\n",
        " 'min_child_weight': 11}\n",
        "\n",
        "catb_param = {'objective': 'CrossEntropy',\n",
        " 'colsample_bylevel': 0.040629495970693076,\n",
        " 'depth': 11,\n",
        " 'boosting_type': 'Plain',\n",
        " 'bootstrap_type': 'Bernoulli',\n",
        " 'subsample': 0.7446137182350138}"
      ],
      "metadata": {
        "execution": {
          "iopub.status.busy": "2022-03-20T12:30:32.197065Z",
          "iopub.execute_input": "2022-03-20T12:30:32.197683Z",
          "iopub.status.idle": "2022-03-20T12:30:32.222078Z",
          "shell.execute_reply.started": "2022-03-20T12:30:32.197652Z",
          "shell.execute_reply": "2022-03-20T12:30:32.221169Z"
        },
        "trusted": true,
        "id": "zNiJE22bIYO8"
      },
      "execution_count": null,
      "outputs": []
    },
    {
      "cell_type": "markdown",
      "source": [
        "## Model Training\n",
        "<hr style=\"width:80%;border:1px solid black\"> </hr>"
      ],
      "metadata": {
        "id": "MEvuvm7JIYO8"
      }
    },
    {
      "cell_type": "code",
      "source": [
        "N_SPLITS = 50  # previous:300, increasing N_SPLITS to remove error due to randomness\n",
        "\n",
        "lgbm_preds = []\n",
        "xgb_preds = []\n",
        "catb_preds = []\n",
        "\n",
        "prob = []\n",
        "\n",
        "folds = StratifiedKFold(n_splits=N_SPLITS, shuffle=True)\n",
        "\n",
        "for fold, (train_id, test_id) in enumerate(tqdm(folds.split(X, y), total=N_SPLITS)):\n",
        "    X_train = X.iloc[train_id]\n",
        "    y_train = y.iloc[train_id]\n",
        "    X_valid = X.iloc[test_id]\n",
        "    y_valid = y.iloc[test_id]\n",
        "\n",
        "    lgbm_model = lgbm.LGBMClassifier(**lgbm_param)\n",
        "    xgb_model  = xgb.XGBClassifier(**xgb_param)\n",
        "    catb_model = catb.CatBoostClassifier(**catb_param, verbose=0)\n",
        "\n",
        "    lgbm_model.fit(X_train, y_train)\n",
        "    xgb_model.fit(X_train, y_train)\n",
        "    catb_model.fit(X_train, y_train)\n",
        "\n",
        "    my_print(f'fold {fold + 1}')\n",
        "    my_print(f'Training Accuracy   :- {(lgbm_model.score(X_train, y_train)*100).round(2)}% | {(xgb_model.score(X_train, y_train)*100).round(2)}% | {(catb_model.score(X_train, y_train)*100).round(2)}%')\n",
        "    my_print(f'Validation Accuracy :- {(lgbm_model.score(X_valid, y_valid)*100).round(2)}% | {(xgb_model.score(X_valid, y_valid)*100).round(2)}% | {(catb_model.score(X_valid, y_valid)*100).round(2)}%')\n",
        "\n",
        "    prob1, prob2, prob3 = lgbm_model.predict_proba(X_test), xgb_model.predict_proba(X_test), catb_model.predict_proba(X_test)\n",
        "    prob.append((prob1 + prob2 + prob3) / 3)\n",
        "my_print('Model Trained !!!')"
      ],
      "metadata": {
        "_kg_hide-output": true,
        "_kg_hide-input": false,
        "execution": {
          "iopub.status.busy": "2022-03-20T12:30:32.223223Z",
          "iopub.execute_input": "2022-03-20T12:30:32.223701Z",
          "iopub.status.idle": "2022-03-20T12:30:38.888953Z",
          "shell.execute_reply.started": "2022-03-20T12:30:32.223653Z",
          "shell.execute_reply": "2022-03-20T12:30:38.886874Z"
        },
        "trusted": true,
        "id": "Xwjf2odUIYO8"
      },
      "execution_count": null,
      "outputs": []
    },
    {
      "cell_type": "markdown",
      "source": [
        "### <center>☝ Be careful, not to open it ⚠⚠ <center>"
      ],
      "metadata": {
        "id": "BOdwfDAqIYO9"
      }
    },
    {
      "cell_type": "markdown",
      "source": [
        "## Ensembling Models\n",
        "<hr style=\"width:80%;border:1px solid black\"> </hr>"
      ],
      "metadata": {
        "id": "BB9ZdLtuIYO9"
      }
    },
    {
      "cell_type": "code",
      "source": [
        "final = [[0,0]]\n",
        "for i in range(N_SPLITS):\n",
        "    final = final + prob[i]\n",
        "\n",
        "final = final/N_SPLITS"
      ],
      "metadata": {
        "execution": {
          "iopub.status.busy": "2022-03-20T12:30:38.900591Z",
          "iopub.execute_input": "2022-03-20T12:30:38.90093Z",
          "iopub.status.idle": "2022-03-20T12:30:38.919688Z",
          "shell.execute_reply.started": "2022-03-20T12:30:38.900894Z",
          "shell.execute_reply": "2022-03-20T12:30:38.917439Z"
        },
        "trusted": true,
        "id": "dTJuAd6JIYO-"
      },
      "execution_count": null,
      "outputs": []
    },
    {
      "cell_type": "code",
      "source": [
        "y_pred = pd.Series([np.argmax([i]) for i in final])"
      ],
      "metadata": {
        "execution": {
          "iopub.status.busy": "2022-03-20T12:30:38.921725Z",
          "iopub.execute_input": "2022-03-20T12:30:38.922666Z",
          "iopub.status.idle": "2022-03-20T12:30:38.967098Z",
          "shell.execute_reply.started": "2022-03-20T12:30:38.922595Z",
          "shell.execute_reply": "2022-03-20T12:30:38.965526Z"
        },
        "trusted": true,
        "id": "NYQ_bresIYO-"
      },
      "execution_count": null,
      "outputs": []
    },
    {
      "cell_type": "code",
      "source": [
        "from sklearn.metrics import confusion_matrix\n",
        "xgb_predict = xgb_model.predict(X_valid)\n",
        "lgbm_predict = lgbm_model.predict(X_valid)\n",
        "catb_predict = catb_model.predict(X_valid)\n",
        "\n",
        "fig,ax = plt.subplots(1, 3, figsize=(18, 5))\n",
        "sns.heatmap(confusion_matrix(y_valid,  xgb_predict), annot=True, cmap='cool_r', ax=ax[0], square=True)\n",
        "ax[0].set_title('XGBoost')\n",
        "sns.heatmap(confusion_matrix(y_valid, lgbm_predict), annot=True, cmap='cool_r', ax=ax[1], square=True)\n",
        "ax[1].set_title('LGBM')\n",
        "sns.heatmap(confusion_matrix(y_valid, catb_predict), annot=True, cmap='cool_r', ax=ax[2], square=True)\n",
        "ax[2].set_title('CatBoost')\n",
        "plt.suptitle('Confusion Matrix of each Model on Validation Data')\n",
        "fig.show()"
      ],
      "metadata": {
        "execution": {
          "iopub.status.busy": "2022-03-20T12:30:38.969003Z",
          "iopub.execute_input": "2022-03-20T12:30:38.969345Z",
          "iopub.status.idle": "2022-03-20T12:30:39.812613Z",
          "shell.execute_reply.started": "2022-03-20T12:30:38.969308Z",
          "shell.execute_reply": "2022-03-20T12:30:39.81129Z"
        },
        "trusted": true,
        "id": "Ynjo0LIiIYO_"
      },
      "execution_count": null,
      "outputs": []
    },
    {
      "cell_type": "markdown",
      "source": [
        "## Submission\n",
        "<hr style=\"width:80%;border:1px solid black\"> </hr>"
      ],
      "metadata": {
        "id": "hWhtCr7gIYO_"
      }
    },
    {
      "cell_type": "code",
      "source": [
        "submission = pd.read_csv('../input/spaceship-titanic/sample_submission.csv')\n",
        "submission.head()"
      ],
      "metadata": {
        "execution": {
          "iopub.status.busy": "2022-03-20T12:30:39.816027Z",
          "iopub.execute_input": "2022-03-20T12:30:39.81642Z",
          "iopub.status.idle": "2022-03-20T12:30:39.838399Z",
          "shell.execute_reply.started": "2022-03-20T12:30:39.816386Z",
          "shell.execute_reply": "2022-03-20T12:30:39.836671Z"
        },
        "trusted": true,
        "id": "zW9lJk53IYO_"
      },
      "execution_count": null,
      "outputs": []
    },
    {
      "cell_type": "code",
      "source": [
        "submission['Transported'] = y_pred.astype('bool')\n",
        "submission.to_csv('submission.csv', index=False)"
      ],
      "metadata": {
        "execution": {
          "iopub.status.busy": "2022-03-20T12:30:39.843211Z",
          "iopub.execute_input": "2022-03-20T12:30:39.84417Z",
          "iopub.status.idle": "2022-03-20T12:30:39.875349Z",
          "shell.execute_reply.started": "2022-03-20T12:30:39.844084Z",
          "shell.execute_reply": "2022-03-20T12:30:39.87244Z"
        },
        "trusted": true,
        "id": "cDpSmFaaIYO_"
      },
      "execution_count": null,
      "outputs": []
    },
    {
      "cell_type": "markdown",
      "source": [
        "<hr style=\"width:99%;border:1px solid black\"> </hr>\n",
        "\n",
        "#### <center>Thanks for reading my Notebook, I hope you've learned something from it. 😊</center>\n",
        "\n",
        "<hr style=\"width:99%;border:1px solid black\"> </hr>"
      ],
      "metadata": {
        "id": "OAA-i9JhIYO_"
      }
    }
  ]
}