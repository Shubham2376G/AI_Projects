{
  "cells": [
    {
      "cell_type": "markdown",
      "metadata": {
        "id": "mqmGbyMSSOto"
      },
      "source": [
        "<center>\n",
        "    <img src=\"https://cf-courses-data.s3.us.cloud-object-storage.appdomain.cloud/IBMDeveloperSkillsNetwork-DS0105EN-SkillsNetwork/labs/Module2/images/SN_web_lightmode.png\" width=\"300\" alt=\"cognitiveclass.ai logo\">\n",
        "</center>\n"
      ]
    },
    {
      "cell_type": "markdown",
      "metadata": {
        "id": "cDMPt9ykSOtt"
      },
      "source": [
        "#### Add your code below following the instructions given in the course\n"
      ]
    },
    {
      "cell_type": "markdown",
      "source": [
        "#**Data Science Tools and Ecosystem**:"
      ],
      "metadata": {
        "id": "Mq5Dmb3-DbRF"
      }
    },
    {
      "cell_type": "markdown",
      "source": [
        "In this notebook, Data Science Tools and Ecosystem are summarized."
      ],
      "metadata": {
        "id": "pk6XA0xhH56Q"
      }
    },
    {
      "cell_type": "markdown",
      "source": [
        "**Objectives:**\n",
        "* List popular languages for Data Science\n",
        "* List popular libraries for Data Science\n",
        "* Simple Arithmetic expression in Python"
      ],
      "metadata": {
        "id": "JouHJDSjKyVB"
      }
    },
    {
      "cell_type": "markdown",
      "source": [
        "Some of the popular languages that Data Scientists use are:\n",
        "1. Python\n",
        "2. R\n",
        "3. Java"
      ],
      "metadata": {
        "id": "kpZutQzWIEuJ"
      }
    },
    {
      "cell_type": "markdown",
      "source": [
        "Some of the commonly used libraries used by Data Scientists include:\n",
        "1. Matplotlib\n",
        "2. Pandas\n",
        "3. Scikit-learn"
      ],
      "metadata": {
        "id": "omBR2jWjIZfQ"
      }
    },
    {
      "cell_type": "markdown",
      "source": [
        "| *Data Science Tools* |\n",
        "| ---------------- |\n",
        "|Rstudio|\n",
        "|Google collab|\n",
        "|Jupyterlite|\n"
      ],
      "metadata": {
        "id": "83b4D8cGI3qH"
      }
    },
    {
      "cell_type": "markdown",
      "source": [
        "###Below are a few examples of evaluating arithmetic expressions in Python"
      ],
      "metadata": {
        "id": "VjuvH2T5J8wY"
      }
    },
    {
      "cell_type": "code",
      "source": [
        "#This a simple arithmetic expression to mutiply then add integers\n",
        "(3*4)+5"
      ],
      "metadata": {
        "colab": {
          "base_uri": "https://localhost:8080/"
        },
        "id": "m5S0C3gCKJ4X",
        "outputId": "ace4732c-94d9-4f5f-8f8b-8e0ed13af628"
      },
      "execution_count": 4,
      "outputs": [
        {
          "output_type": "execute_result",
          "data": {
            "text/plain": [
              "17"
            ]
          },
          "metadata": {},
          "execution_count": 4
        }
      ]
    },
    {
      "cell_type": "code",
      "source": [
        "#This will convert 200 minutes to hours by diving by 60\n",
        "200/60"
      ],
      "metadata": {
        "colab": {
          "base_uri": "https://localhost:8080/"
        },
        "id": "vQp0R-HXKZ_a",
        "outputId": "a7747fbc-b0e5-4cd0-aa29-1977223d7ff9"
      },
      "execution_count": 5,
      "outputs": [
        {
          "output_type": "execute_result",
          "data": {
            "text/plain": [
              "3.3333333333333335"
            ]
          },
          "metadata": {},
          "execution_count": 5
        }
      ]
    },
    {
      "cell_type": "markdown",
      "source": [
        "##Author\n",
        "Shubham Aggarwal"
      ],
      "metadata": {
        "id": "fzcgxysHLRl5"
      }
    }
  ],
  "metadata": {
    "kernelspec": {
      "display_name": "Python",
      "language": "python",
      "name": "conda-env-python-py"
    },
    "language_info": {
      "name": ""
    },
    "colab": {
      "provenance": []
    }
  },
  "nbformat": 4,
  "nbformat_minor": 0
}