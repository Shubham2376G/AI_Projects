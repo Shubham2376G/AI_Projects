{
  "nbformat": 4,
  "nbformat_minor": 0,
  "metadata": {
    "colab": {
      "provenance": []
    },
    "kernelspec": {
      "name": "python3",
      "display_name": "Python 3"
    },
    "language_info": {
      "name": "python"
    }
  },
  "cells": [
    {
      "cell_type": "code",
      "source": [
        "import numpy as np"
      ],
      "metadata": {
        "id": "YXFbQxXmcQ0X"
      },
      "execution_count": null,
      "outputs": []
    },
    {
      "cell_type": "code",
      "source": [
        "# Define the environment\n",
        "n_states = 16  # Number of states in the environment\n",
        "n_actions = 4  # Number of possible actions per state\n",
        "goal_state = 15  # The target state (goal)"
      ],
      "metadata": {
        "id": "giYtaeUlcUn1"
      },
      "execution_count": null,
      "outputs": []
    },
    {
      "cell_type": "code",
      "source": [
        "# Initialize the Q-table with zeros\n",
        "Q_table = np.zeros((n_states, n_actions))\n",
        "\n",
        "# Hyperparameters\n",
        "learning_rate = 0.8       # Alpha: Learning rate for Q-value updates\n",
        "discount_factor = 0.95    # Gamma: Future reward discount factor\n",
        "exploration_prob = 0.2    # Epsilon: Probability of exploring random actions\n",
        "epochs = 1000             # Number of training iterations"
      ],
      "metadata": {
        "id": "wKIM4WR0cWy_"
      },
      "execution_count": null,
      "outputs": []
    },
    {
      "cell_type": "code",
      "execution_count": null,
      "metadata": {
        "colab": {
          "base_uri": "https://localhost:8080/"
        },
        "id": "6sUaAQX0OKP9",
        "outputId": "92f7eb09-873d-4b94-a6e5-223c37d1c7d0"
      },
      "outputs": [
        {
          "output_type": "stream",
          "name": "stdout",
          "text": [
            "Learned Q-table:\n",
            "[[ 0.48767498  0.46815244  0.46816798  0.46816798]\n",
            " [ 0.51252074  0.51252065  0.51317781  0.51334208]\n",
            " [ 0.54035893  0.54032548  0.54036009  0.54036003]\n",
            " [ 0.56880009  0.56880009  0.56880003  0.56880009]\n",
            " [ 0.59873694  0.59873663  0.59873694  0.59873694]\n",
            " [ 0.63024941  0.63024935  0.63024941  0.63024941]\n",
            " [ 0.66342043  0.66342043  0.66342043  0.66342043]\n",
            " [ 0.6983373   0.6983373   0.6983373   0.6983373 ]\n",
            " [ 0.73509189  0.73509189  0.73509189  0.73509189]\n",
            " [ 0.77378094  0.77378094 -0.22621906  0.77378094]\n",
            " [ 0.81450625  0.81450625  0.81450625  0.81450625]\n",
            " [ 0.857375    0.857375    0.857375    0.857375  ]\n",
            " [ 0.9025      0.9025      0.9025      0.9025    ]\n",
            " [ 0.95        0.95        0.95        0.95      ]\n",
            " [ 1.          1.          1.          1.        ]\n",
            " [ 0.          0.          0.          0.        ]]\n"
          ]
        }
      ],
      "source": [
        "# Q-learning algorithm\n",
        "for epoch in range(epochs):\n",
        "    # Start from a random initial state\n",
        "    current_state = np.random.randint(0, n_states)\n",
        "\n",
        "    while current_state != goal_state:\n",
        "        # Choose an action (epsilon-greedy policy)\n",
        "        if np.random.rand() < exploration_prob:\n",
        "            action = np.random.randint(0, n_actions)  # Explore: Random action\n",
        "        else:\n",
        "            action = np.argmax(Q_table[current_state])  # Exploit: Best known action\n",
        "\n",
        "        # Define next state (for simplicity, cycling through states sequentially)\n",
        "        next_state = (current_state + 1) % n_states\n",
        "\n",
        "        # Define reward function\n",
        "        if next_state == goal_state:\n",
        "            reward = 1  # Positive reward for reaching the goal\n",
        "        elif next_state == 10 and action == 2:\n",
        "            reward = -1  # Negative reward for an undesired action\n",
        "        else:\n",
        "            reward = 0  # Default reward\n",
        "\n",
        "        # Q-learning update rule\n",
        "        Q_table[current_state, action] += learning_rate * (\n",
        "            reward + discount_factor * np.max(Q_table[next_state]) - Q_table[current_state, action]\n",
        "        )\n",
        "\n",
        "        # Move to the next state\n",
        "        current_state = next_state\n",
        "\n",
        "# Print the final learned Q-table\n",
        "print(\"Learned Q-table:\")\n",
        "print(Q_table)\n"
      ]
    }
  ]
}