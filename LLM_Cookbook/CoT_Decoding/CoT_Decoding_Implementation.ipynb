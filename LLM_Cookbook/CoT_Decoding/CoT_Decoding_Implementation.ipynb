{
  "nbformat": 4,
  "nbformat_minor": 0,
  "metadata": {
    "colab": {
      "provenance": [],
      "gpuType": "T4"
    },
    "kernelspec": {
      "name": "python3",
      "display_name": "Python 3"
    },
    "language_info": {
      "name": "python"
    },
    "accelerator": "GPU"
  },
  "cells": [
    {
      "cell_type": "markdown",
      "source": [
        "# Install dependencies"
      ],
      "metadata": {
        "id": "_8nzTtB-71Nu"
      }
    },
    {
      "cell_type": "code",
      "source": [
        "!git clone https://github.com/paulosantosneto/unofficial-cot-decoding.git"
      ],
      "metadata": {
        "colab": {
          "base_uri": "https://localhost:8080/"
        },
        "id": "SP7lS7708Kpi",
        "outputId": "b257f304-14ab-4ebb-bea5-257dc8963441"
      },
      "execution_count": null,
      "outputs": [
        {
          "output_type": "stream",
          "name": "stdout",
          "text": [
            "Cloning into 'unofficial-cot-decoding'...\n",
            "remote: Enumerating objects: 29, done.\u001b[K\n",
            "remote: Counting objects: 100% (29/29), done.\u001b[K\n",
            "remote: Compressing objects: 100% (21/21), done.\u001b[K\n",
            "remote: Total 29 (delta 7), reused 25 (delta 4), pack-reused 0 (from 0)\u001b[K\n",
            "Receiving objects: 100% (29/29), 12.29 KiB | 6.15 MiB/s, done.\n",
            "Resolving deltas: 100% (7/7), done.\n"
          ]
        }
      ]
    },
    {
      "cell_type": "code",
      "source": [
        "%cd /content/unofficial-cot-decoding"
      ],
      "metadata": {
        "colab": {
          "base_uri": "https://localhost:8080/"
        },
        "id": "NIV2zQCJ9EqR",
        "outputId": "66687199-8f2f-4378-e64a-257e739433bb"
      },
      "execution_count": null,
      "outputs": [
        {
          "output_type": "stream",
          "name": "stdout",
          "text": [
            "/content/unofficial-cot-decoding\n"
          ]
        }
      ]
    },
    {
      "cell_type": "code",
      "execution_count": null,
      "metadata": {
        "colab": {
          "base_uri": "https://localhost:8080/"
        },
        "id": "eYw9mssl7bs9",
        "outputId": "4e5edb6e-92b5-45fc-da2d-3c604cc8496c"
      },
      "outputs": [
        {
          "output_type": "stream",
          "name": "stdout",
          "text": [
            "Requirement already satisfied: accelerate==0.30.0 in /usr/local/lib/python3.10/dist-packages (from -r /content/unofficial-cot-decoding/requirements.txt (line 1)) (0.30.0)\n",
            "Requirement already satisfied: aiohttp==3.9.5 in /usr/local/lib/python3.10/dist-packages (from -r /content/unofficial-cot-decoding/requirements.txt (line 2)) (3.9.5)\n",
            "Requirement already satisfied: aiosignal==1.3.1 in /usr/local/lib/python3.10/dist-packages (from -r /content/unofficial-cot-decoding/requirements.txt (line 3)) (1.3.1)\n",
            "Requirement already satisfied: annotated-types==0.6.0 in /usr/local/lib/python3.10/dist-packages (from -r /content/unofficial-cot-decoding/requirements.txt (line 4)) (0.6.0)\n",
            "Requirement already satisfied: anyio==4.3.0 in /usr/local/lib/python3.10/dist-packages (from -r /content/unofficial-cot-decoding/requirements.txt (line 5)) (4.3.0)\n",
            "Requirement already satisfied: async-timeout==4.0.3 in /usr/local/lib/python3.10/dist-packages (from -r /content/unofficial-cot-decoding/requirements.txt (line 6)) (4.0.3)\n",
            "Requirement already satisfied: attrs==23.2.0 in /usr/local/lib/python3.10/dist-packages (from -r /content/unofficial-cot-decoding/requirements.txt (line 7)) (23.2.0)\n",
            "Requirement already satisfied: bitsandbytes==0.43.1 in /usr/local/lib/python3.10/dist-packages (from -r /content/unofficial-cot-decoding/requirements.txt (line 8)) (0.43.1)\n",
            "Requirement already satisfied: certifi==2024.2.2 in /usr/local/lib/python3.10/dist-packages (from -r /content/unofficial-cot-decoding/requirements.txt (line 9)) (2024.2.2)\n",
            "Requirement already satisfied: charset-normalizer==3.3.2 in /usr/local/lib/python3.10/dist-packages (from -r /content/unofficial-cot-decoding/requirements.txt (line 10)) (3.3.2)\n",
            "Requirement already satisfied: click==8.1.7 in /usr/local/lib/python3.10/dist-packages (from -r /content/unofficial-cot-decoding/requirements.txt (line 11)) (8.1.7)\n",
            "Requirement already satisfied: cloudpickle==3.0.0 in /usr/local/lib/python3.10/dist-packages (from -r /content/unofficial-cot-decoding/requirements.txt (line 12)) (3.0.0)\n",
            "Requirement already satisfied: cmake==3.29.2 in /usr/local/lib/python3.10/dist-packages (from -r /content/unofficial-cot-decoding/requirements.txt (line 13)) (3.29.2)\n",
            "Requirement already satisfied: datasets==2.19.0 in /usr/local/lib/python3.10/dist-packages (from -r /content/unofficial-cot-decoding/requirements.txt (line 14)) (2.19.0)\n",
            "Requirement already satisfied: dill==0.3.8 in /usr/local/lib/python3.10/dist-packages (from -r /content/unofficial-cot-decoding/requirements.txt (line 15)) (0.3.8)\n",
            "Requirement already satisfied: diskcache==5.6.3 in /usr/local/lib/python3.10/dist-packages (from -r /content/unofficial-cot-decoding/requirements.txt (line 16)) (5.6.3)\n",
            "Requirement already satisfied: distro==1.9.0 in /usr/local/lib/python3.10/dist-packages (from -r /content/unofficial-cot-decoding/requirements.txt (line 17)) (1.9.0)\n",
            "Requirement already satisfied: dnspython==2.6.1 in /usr/local/lib/python3.10/dist-packages (from -r /content/unofficial-cot-decoding/requirements.txt (line 18)) (2.6.1)\n",
            "Requirement already satisfied: docstring_parser==0.16 in /usr/local/lib/python3.10/dist-packages (from -r /content/unofficial-cot-decoding/requirements.txt (line 19)) (0.16)\n",
            "Requirement already satisfied: email_validator==2.1.1 in /usr/local/lib/python3.10/dist-packages (from -r /content/unofficial-cot-decoding/requirements.txt (line 20)) (2.1.1)\n",
            "Requirement already satisfied: exceptiongroup==1.2.1 in /usr/local/lib/python3.10/dist-packages (from -r /content/unofficial-cot-decoding/requirements.txt (line 21)) (1.2.1)\n",
            "Requirement already satisfied: fastapi==0.111.0 in /usr/local/lib/python3.10/dist-packages (from -r /content/unofficial-cot-decoding/requirements.txt (line 22)) (0.111.0)\n",
            "Requirement already satisfied: fastapi-cli==0.0.3 in /usr/local/lib/python3.10/dist-packages (from -r /content/unofficial-cot-decoding/requirements.txt (line 23)) (0.0.3)\n",
            "Requirement already satisfied: filelock==3.14.0 in /usr/local/lib/python3.10/dist-packages (from -r /content/unofficial-cot-decoding/requirements.txt (line 24)) (3.14.0)\n",
            "Requirement already satisfied: frozenlist==1.4.1 in /usr/local/lib/python3.10/dist-packages (from -r /content/unofficial-cot-decoding/requirements.txt (line 25)) (1.4.1)\n",
            "Requirement already satisfied: fsspec==2024.3.1 in /usr/local/lib/python3.10/dist-packages (from -r /content/unofficial-cot-decoding/requirements.txt (line 26)) (2024.3.1)\n",
            "Requirement already satisfied: h11==0.14.0 in /usr/local/lib/python3.10/dist-packages (from -r /content/unofficial-cot-decoding/requirements.txt (line 27)) (0.14.0)\n",
            "Requirement already satisfied: httpcore==1.0.5 in /usr/local/lib/python3.10/dist-packages (from -r /content/unofficial-cot-decoding/requirements.txt (line 28)) (1.0.5)\n",
            "Requirement already satisfied: httptools==0.6.1 in /usr/local/lib/python3.10/dist-packages (from -r /content/unofficial-cot-decoding/requirements.txt (line 29)) (0.6.1)\n",
            "Requirement already satisfied: httpx==0.27.0 in /usr/local/lib/python3.10/dist-packages (from -r /content/unofficial-cot-decoding/requirements.txt (line 30)) (0.27.0)\n",
            "Requirement already satisfied: huggingface-hub==0.23.0 in /usr/local/lib/python3.10/dist-packages (from -r /content/unofficial-cot-decoding/requirements.txt (line 31)) (0.23.0)\n",
            "Requirement already satisfied: idna==3.7 in /usr/local/lib/python3.10/dist-packages (from -r /content/unofficial-cot-decoding/requirements.txt (line 32)) (3.7)\n",
            "Requirement already satisfied: interegular==0.3.3 in /usr/local/lib/python3.10/dist-packages (from -r /content/unofficial-cot-decoding/requirements.txt (line 33)) (0.3.3)\n",
            "Requirement already satisfied: Jinja2==3.1.4 in /usr/local/lib/python3.10/dist-packages (from -r /content/unofficial-cot-decoding/requirements.txt (line 34)) (3.1.4)\n",
            "Requirement already satisfied: joblib==1.4.2 in /usr/local/lib/python3.10/dist-packages (from -r /content/unofficial-cot-decoding/requirements.txt (line 35)) (1.4.2)\n",
            "Requirement already satisfied: jsonschema==4.22.0 in /usr/local/lib/python3.10/dist-packages (from -r /content/unofficial-cot-decoding/requirements.txt (line 36)) (4.22.0)\n",
            "Requirement already satisfied: jsonschema-specifications==2023.12.1 in /usr/local/lib/python3.10/dist-packages (from -r /content/unofficial-cot-decoding/requirements.txt (line 37)) (2023.12.1)\n",
            "Requirement already satisfied: lark==1.1.9 in /usr/local/lib/python3.10/dist-packages (from -r /content/unofficial-cot-decoding/requirements.txt (line 38)) (1.1.9)\n",
            "Requirement already satisfied: llvmlite==0.42.0 in /usr/local/lib/python3.10/dist-packages (from -r /content/unofficial-cot-decoding/requirements.txt (line 39)) (0.42.0)\n",
            "Requirement already satisfied: lm-format-enforcer==0.9.8 in /usr/local/lib/python3.10/dist-packages (from -r /content/unofficial-cot-decoding/requirements.txt (line 40)) (0.9.8)\n",
            "Requirement already satisfied: markdown-it-py==3.0.0 in /usr/local/lib/python3.10/dist-packages (from -r /content/unofficial-cot-decoding/requirements.txt (line 41)) (3.0.0)\n",
            "Requirement already satisfied: MarkupSafe==2.1.5 in /usr/local/lib/python3.10/dist-packages (from -r /content/unofficial-cot-decoding/requirements.txt (line 42)) (2.1.5)\n",
            "Requirement already satisfied: mdurl==0.1.2 in /usr/local/lib/python3.10/dist-packages (from -r /content/unofficial-cot-decoding/requirements.txt (line 43)) (0.1.2)\n",
            "Requirement already satisfied: mpmath==1.3.0 in /usr/local/lib/python3.10/dist-packages (from -r /content/unofficial-cot-decoding/requirements.txt (line 44)) (1.3.0)\n",
            "Requirement already satisfied: msgpack==1.0.8 in /usr/local/lib/python3.10/dist-packages (from -r /content/unofficial-cot-decoding/requirements.txt (line 45)) (1.0.8)\n",
            "Requirement already satisfied: multidict==6.0.5 in /usr/local/lib/python3.10/dist-packages (from -r /content/unofficial-cot-decoding/requirements.txt (line 46)) (6.0.5)\n",
            "Requirement already satisfied: multiprocess==0.70.16 in /usr/local/lib/python3.10/dist-packages (from -r /content/unofficial-cot-decoding/requirements.txt (line 47)) (0.70.16)\n",
            "Requirement already satisfied: nest-asyncio==1.6.0 in /usr/local/lib/python3.10/dist-packages (from -r /content/unofficial-cot-decoding/requirements.txt (line 48)) (1.6.0)\n",
            "Requirement already satisfied: networkx==3.3 in /usr/local/lib/python3.10/dist-packages (from -r /content/unofficial-cot-decoding/requirements.txt (line 49)) (3.3)\n",
            "Requirement already satisfied: ninja==1.11.1.1 in /usr/local/lib/python3.10/dist-packages (from -r /content/unofficial-cot-decoding/requirements.txt (line 50)) (1.11.1.1)\n",
            "Requirement already satisfied: numba==0.59.1 in /usr/local/lib/python3.10/dist-packages (from -r /content/unofficial-cot-decoding/requirements.txt (line 51)) (0.59.1)\n",
            "Requirement already satisfied: numpy==1.26.4 in /usr/local/lib/python3.10/dist-packages (from -r /content/unofficial-cot-decoding/requirements.txt (line 52)) (1.26.4)\n",
            "Requirement already satisfied: nvidia-cublas-cu12==12.1.3.1 in /usr/local/lib/python3.10/dist-packages (from -r /content/unofficial-cot-decoding/requirements.txt (line 53)) (12.1.3.1)\n",
            "Requirement already satisfied: nvidia-cuda-cupti-cu12==12.1.105 in /usr/local/lib/python3.10/dist-packages (from -r /content/unofficial-cot-decoding/requirements.txt (line 54)) (12.1.105)\n",
            "Requirement already satisfied: nvidia-cuda-nvrtc-cu12==12.1.105 in /usr/local/lib/python3.10/dist-packages (from -r /content/unofficial-cot-decoding/requirements.txt (line 55)) (12.1.105)\n",
            "Requirement already satisfied: nvidia-cuda-runtime-cu12==12.1.105 in /usr/local/lib/python3.10/dist-packages (from -r /content/unofficial-cot-decoding/requirements.txt (line 56)) (12.1.105)\n",
            "Requirement already satisfied: nvidia-cudnn-cu12==8.9.2.26 in /usr/local/lib/python3.10/dist-packages (from -r /content/unofficial-cot-decoding/requirements.txt (line 57)) (8.9.2.26)\n",
            "Requirement already satisfied: nvidia-cufft-cu12==11.0.2.54 in /usr/local/lib/python3.10/dist-packages (from -r /content/unofficial-cot-decoding/requirements.txt (line 58)) (11.0.2.54)\n",
            "Requirement already satisfied: nvidia-curand-cu12==10.3.2.106 in /usr/local/lib/python3.10/dist-packages (from -r /content/unofficial-cot-decoding/requirements.txt (line 59)) (10.3.2.106)\n",
            "Requirement already satisfied: nvidia-cusolver-cu12==11.4.5.107 in /usr/local/lib/python3.10/dist-packages (from -r /content/unofficial-cot-decoding/requirements.txt (line 60)) (11.4.5.107)\n",
            "Requirement already satisfied: nvidia-cusparse-cu12==12.1.0.106 in /usr/local/lib/python3.10/dist-packages (from -r /content/unofficial-cot-decoding/requirements.txt (line 61)) (12.1.0.106)\n",
            "Requirement already satisfied: nvidia-ml-py==12.550.52 in /usr/local/lib/python3.10/dist-packages (from -r /content/unofficial-cot-decoding/requirements.txt (line 62)) (12.550.52)\n",
            "Requirement already satisfied: nvidia-nccl-cu12==2.20.5 in /usr/local/lib/python3.10/dist-packages (from -r /content/unofficial-cot-decoding/requirements.txt (line 63)) (2.20.5)\n",
            "Requirement already satisfied: nvidia-nvjitlink-cu12==12.4.127 in /usr/local/lib/python3.10/dist-packages (from -r /content/unofficial-cot-decoding/requirements.txt (line 64)) (12.4.127)\n",
            "Requirement already satisfied: nvidia-nvtx-cu12==12.1.105 in /usr/local/lib/python3.10/dist-packages (from -r /content/unofficial-cot-decoding/requirements.txt (line 65)) (12.1.105)\n",
            "Requirement already satisfied: openai==1.28.0 in /usr/local/lib/python3.10/dist-packages (from -r /content/unofficial-cot-decoding/requirements.txt (line 66)) (1.28.0)\n",
            "Requirement already satisfied: orjson==3.10.3 in /usr/local/lib/python3.10/dist-packages (from -r /content/unofficial-cot-decoding/requirements.txt (line 67)) (3.10.3)\n",
            "Requirement already satisfied: outlines==0.0.34 in /usr/local/lib/python3.10/dist-packages (from -r /content/unofficial-cot-decoding/requirements.txt (line 68)) (0.0.34)\n",
            "Requirement already satisfied: packaging==24.0 in /usr/local/lib/python3.10/dist-packages (from -r /content/unofficial-cot-decoding/requirements.txt (line 69)) (24.0)\n",
            "Requirement already satisfied: pandas==2.2.2 in /usr/local/lib/python3.10/dist-packages (from -r /content/unofficial-cot-decoding/requirements.txt (line 70)) (2.2.2)\n",
            "Requirement already satisfied: peft==0.10.0 in /usr/local/lib/python3.10/dist-packages (from -r /content/unofficial-cot-decoding/requirements.txt (line 71)) (0.10.0)\n",
            "Requirement already satisfied: prometheus-fastapi-instrumentator==7.0.0 in /usr/local/lib/python3.10/dist-packages (from -r /content/unofficial-cot-decoding/requirements.txt (line 72)) (7.0.0)\n",
            "Requirement already satisfied: prometheus_client==0.20.0 in /usr/local/lib/python3.10/dist-packages (from -r /content/unofficial-cot-decoding/requirements.txt (line 73)) (0.20.0)\n",
            "Requirement already satisfied: protobuf==5.26.1 in /usr/local/lib/python3.10/dist-packages (from -r /content/unofficial-cot-decoding/requirements.txt (line 74)) (5.26.1)\n",
            "Requirement already satisfied: psutil==5.9.8 in /usr/local/lib/python3.10/dist-packages (from -r /content/unofficial-cot-decoding/requirements.txt (line 75)) (5.9.8)\n",
            "Requirement already satisfied: py-cpuinfo==9.0.0 in /usr/local/lib/python3.10/dist-packages (from -r /content/unofficial-cot-decoding/requirements.txt (line 76)) (9.0.0)\n",
            "Requirement already satisfied: pyarrow==16.0.0 in /usr/local/lib/python3.10/dist-packages (from -r /content/unofficial-cot-decoding/requirements.txt (line 77)) (16.0.0)\n",
            "Requirement already satisfied: pyarrow-hotfix==0.6 in /usr/local/lib/python3.10/dist-packages (from -r /content/unofficial-cot-decoding/requirements.txt (line 78)) (0.6)\n",
            "Requirement already satisfied: pydantic==2.7.1 in /usr/local/lib/python3.10/dist-packages (from -r /content/unofficial-cot-decoding/requirements.txt (line 79)) (2.7.1)\n",
            "Requirement already satisfied: pydantic_core==2.18.2 in /usr/local/lib/python3.10/dist-packages (from -r /content/unofficial-cot-decoding/requirements.txt (line 80)) (2.18.2)\n",
            "Requirement already satisfied: Pygments==2.18.0 in /usr/local/lib/python3.10/dist-packages (from -r /content/unofficial-cot-decoding/requirements.txt (line 81)) (2.18.0)\n",
            "Requirement already satisfied: python-dateutil==2.9.0.post0 in /usr/local/lib/python3.10/dist-packages (from -r /content/unofficial-cot-decoding/requirements.txt (line 82)) (2.9.0.post0)\n",
            "Requirement already satisfied: python-dotenv==1.0.1 in /usr/local/lib/python3.10/dist-packages (from -r /content/unofficial-cot-decoding/requirements.txt (line 83)) (1.0.1)\n",
            "Requirement already satisfied: python-multipart==0.0.9 in /usr/local/lib/python3.10/dist-packages (from -r /content/unofficial-cot-decoding/requirements.txt (line 84)) (0.0.9)\n",
            "Requirement already satisfied: pytz==2024.1 in /usr/local/lib/python3.10/dist-packages (from -r /content/unofficial-cot-decoding/requirements.txt (line 85)) (2024.1)\n",
            "Requirement already satisfied: PyYAML==6.0.1 in /usr/local/lib/python3.10/dist-packages (from -r /content/unofficial-cot-decoding/requirements.txt (line 86)) (6.0.1)\n",
            "Requirement already satisfied: ray==2.21.0 in /usr/local/lib/python3.10/dist-packages (from -r /content/unofficial-cot-decoding/requirements.txt (line 87)) (2.21.0)\n",
            "Requirement already satisfied: referencing==0.35.1 in /usr/local/lib/python3.10/dist-packages (from -r /content/unofficial-cot-decoding/requirements.txt (line 88)) (0.35.1)\n",
            "Requirement already satisfied: regex==2024.4.28 in /usr/local/lib/python3.10/dist-packages (from -r /content/unofficial-cot-decoding/requirements.txt (line 89)) (2024.4.28)\n",
            "Requirement already satisfied: requests==2.31.0 in /usr/local/lib/python3.10/dist-packages (from -r /content/unofficial-cot-decoding/requirements.txt (line 90)) (2.31.0)\n",
            "Requirement already satisfied: rich==13.7.1 in /usr/local/lib/python3.10/dist-packages (from -r /content/unofficial-cot-decoding/requirements.txt (line 91)) (13.7.1)\n",
            "Requirement already satisfied: rpds-py==0.18.1 in /usr/local/lib/python3.10/dist-packages (from -r /content/unofficial-cot-decoding/requirements.txt (line 92)) (0.18.1)\n",
            "Requirement already satisfied: safetensors==0.4.3 in /usr/local/lib/python3.10/dist-packages (from -r /content/unofficial-cot-decoding/requirements.txt (line 93)) (0.4.3)\n",
            "Requirement already satisfied: scipy==1.13.0 in /usr/local/lib/python3.10/dist-packages (from -r /content/unofficial-cot-decoding/requirements.txt (line 94)) (1.13.0)\n",
            "Requirement already satisfied: sentencepiece==0.2.0 in /usr/local/lib/python3.10/dist-packages (from -r /content/unofficial-cot-decoding/requirements.txt (line 95)) (0.2.0)\n",
            "Requirement already satisfied: shellingham==1.5.4 in /usr/local/lib/python3.10/dist-packages (from -r /content/unofficial-cot-decoding/requirements.txt (line 96)) (1.5.4)\n",
            "Requirement already satisfied: shtab==1.7.1 in /usr/local/lib/python3.10/dist-packages (from -r /content/unofficial-cot-decoding/requirements.txt (line 97)) (1.7.1)\n",
            "Requirement already satisfied: six==1.16.0 in /usr/local/lib/python3.10/dist-packages (from -r /content/unofficial-cot-decoding/requirements.txt (line 98)) (1.16.0)\n",
            "Requirement already satisfied: sniffio==1.3.1 in /usr/local/lib/python3.10/dist-packages (from -r /content/unofficial-cot-decoding/requirements.txt (line 99)) (1.3.1)\n",
            "Requirement already satisfied: starlette==0.37.2 in /usr/local/lib/python3.10/dist-packages (from -r /content/unofficial-cot-decoding/requirements.txt (line 100)) (0.37.2)\n",
            "Requirement already satisfied: sympy==1.12 in /usr/local/lib/python3.10/dist-packages (from -r /content/unofficial-cot-decoding/requirements.txt (line 101)) (1.12)\n",
            "Requirement already satisfied: tiktoken==0.6.0 in /usr/local/lib/python3.10/dist-packages (from -r /content/unofficial-cot-decoding/requirements.txt (line 102)) (0.6.0)\n",
            "Requirement already satisfied: tokenizers==0.19.1 in /usr/local/lib/python3.10/dist-packages (from -r /content/unofficial-cot-decoding/requirements.txt (line 103)) (0.19.1)\n",
            "Requirement already satisfied: torch==2.3.0 in /usr/local/lib/python3.10/dist-packages (from -r /content/unofficial-cot-decoding/requirements.txt (line 104)) (2.3.0)\n",
            "Requirement already satisfied: tqdm==4.66.4 in /usr/local/lib/python3.10/dist-packages (from -r /content/unofficial-cot-decoding/requirements.txt (line 105)) (4.66.4)\n",
            "Requirement already satisfied: transformers==4.40.1 in /usr/local/lib/python3.10/dist-packages (from -r /content/unofficial-cot-decoding/requirements.txt (line 106)) (4.40.1)\n",
            "Requirement already satisfied: triton==2.3.0 in /usr/local/lib/python3.10/dist-packages (from -r /content/unofficial-cot-decoding/requirements.txt (line 107)) (2.3.0)\n",
            "Requirement already satisfied: trl==0.8.6 in /usr/local/lib/python3.10/dist-packages (from -r /content/unofficial-cot-decoding/requirements.txt (line 108)) (0.8.6)\n",
            "Requirement already satisfied: typer==0.12.3 in /usr/local/lib/python3.10/dist-packages (from -r /content/unofficial-cot-decoding/requirements.txt (line 109)) (0.12.3)\n",
            "Requirement already satisfied: typing_extensions==4.11.0 in /usr/local/lib/python3.10/dist-packages (from -r /content/unofficial-cot-decoding/requirements.txt (line 110)) (4.11.0)\n",
            "Requirement already satisfied: tyro==0.8.3 in /usr/local/lib/python3.10/dist-packages (from -r /content/unofficial-cot-decoding/requirements.txt (line 111)) (0.8.3)\n",
            "Requirement already satisfied: tzdata==2024.1 in /usr/local/lib/python3.10/dist-packages (from -r /content/unofficial-cot-decoding/requirements.txt (line 112)) (2024.1)\n",
            "Requirement already satisfied: ujson==5.9.0 in /usr/local/lib/python3.10/dist-packages (from -r /content/unofficial-cot-decoding/requirements.txt (line 113)) (5.9.0)\n",
            "Requirement already satisfied: urllib3==2.2.1 in /usr/local/lib/python3.10/dist-packages (from -r /content/unofficial-cot-decoding/requirements.txt (line 114)) (2.2.1)\n",
            "Requirement already satisfied: uvicorn==0.29.0 in /usr/local/lib/python3.10/dist-packages (from -r /content/unofficial-cot-decoding/requirements.txt (line 115)) (0.29.0)\n",
            "Requirement already satisfied: uvloop==0.19.0 in /usr/local/lib/python3.10/dist-packages (from -r /content/unofficial-cot-decoding/requirements.txt (line 116)) (0.19.0)\n",
            "Requirement already satisfied: vllm==0.4.2 in /usr/local/lib/python3.10/dist-packages (from -r /content/unofficial-cot-decoding/requirements.txt (line 117)) (0.4.2)\n",
            "Requirement already satisfied: vllm_nccl_cu12==2.18.1.0.4.0 in /usr/local/lib/python3.10/dist-packages (from -r /content/unofficial-cot-decoding/requirements.txt (line 118)) (2.18.1.0.4.0)\n",
            "Requirement already satisfied: watchfiles==0.21.0 in /usr/local/lib/python3.10/dist-packages (from -r /content/unofficial-cot-decoding/requirements.txt (line 119)) (0.21.0)\n",
            "Requirement already satisfied: websockets==12.0 in /usr/local/lib/python3.10/dist-packages (from -r /content/unofficial-cot-decoding/requirements.txt (line 120)) (12.0)\n",
            "Requirement already satisfied: xformers==0.0.26.post1 in /usr/local/lib/python3.10/dist-packages (from -r /content/unofficial-cot-decoding/requirements.txt (line 121)) (0.0.26.post1)\n",
            "Requirement already satisfied: xxhash==3.4.1 in /usr/local/lib/python3.10/dist-packages (from -r /content/unofficial-cot-decoding/requirements.txt (line 122)) (3.4.1)\n",
            "Requirement already satisfied: yarl==1.9.4 in /usr/local/lib/python3.10/dist-packages (from -r /content/unofficial-cot-decoding/requirements.txt (line 123)) (1.9.4)\n"
          ]
        }
      ],
      "source": [
        "!pip install -r /content/unofficial-cot-decoding/requirements.txt"
      ]
    },
    {
      "cell_type": "markdown",
      "source": [
        "# Demo"
      ],
      "metadata": {
        "id": "QIfnwasW9m83"
      }
    },
    {
      "cell_type": "code",
      "source": [
        "!python3 main.py --choice demo --model microsoft/phi-2 --demo_prompt \"I have 3 apples, my dad has 2 more apples than me, how many apples do we have in total?\" --topk 10"
      ],
      "metadata": {
        "colab": {
          "base_uri": "https://localhost:8080/"
        },
        "id": "Lb1L-v1LBvwi",
        "outputId": "7dc31501-2a59-4fba-b429-396ca50d053f"
      },
      "execution_count": null,
      "outputs": [
        {
          "output_type": "stream",
          "name": "stdout",
          "text": [
            "2024-10-01 20:27:55.157892: E external/local_xla/xla/stream_executor/cuda/cuda_fft.cc:485] Unable to register cuFFT factory: Attempting to register factory for plugin cuFFT when one has already been registered\n",
            "2024-10-01 20:27:55.187760: E external/local_xla/xla/stream_executor/cuda/cuda_dnn.cc:8454] Unable to register cuDNN factory: Attempting to register factory for plugin cuDNN when one has already been registered\n",
            "2024-10-01 20:27:55.197531: E external/local_xla/xla/stream_executor/cuda/cuda_blas.cc:1452] Unable to register cuBLAS factory: Attempting to register factory for plugin cuBLAS when one has already been registered\n",
            "2024-10-01 20:27:57.716946: W tensorflow/compiler/tf2tensorrt/utils/py_utils.cc:38] TF-TRT Warning: Could not find TensorRT\n",
            "INFO 10-01 20:28:04 llm_engine.py:100] Initializing an LLM engine (v0.4.2) with config: model='microsoft/phi-2', speculative_config=None, tokenizer='microsoft/phi-2', skip_tokenizer_init=False, tokenizer_mode=auto, revision=None, tokenizer_revision=None, trust_remote_code=False, dtype=torch.float32, max_seq_len=2048, download_dir=None, load_format=LoadFormat.AUTO, tensor_parallel_size=1, disable_custom_all_reduce=False, quantization=None, enforce_eager=False, kv_cache_dtype=auto, quantization_param_path=None, device_config=cuda, decoding_config=DecodingConfig(guided_decoding_backend='outlines'), seed=123, served_model_name=microsoft/phi-2)\n",
            "Special tokens have been added in the vocabulary, make sure the associated word embeddings are fine-tuned or trained.\n",
            "INFO 10-01 20:28:05 utils.py:660] Found nccl from library /root/.config/vllm/nccl/cu12/libnccl.so.2.18.1\n",
            "INFO 10-01 20:28:05 selector.py:69] Cannot use FlashAttention-2 backend for Volta and Turing GPUs.\n",
            "INFO 10-01 20:28:05 selector.py:32] Using XFormers backend.\n",
            "INFO 10-01 20:28:07 weight_utils.py:199] Using model weights format ['*.safetensors']\n",
            "INFO 10-01 20:28:34 model_runner.py:175] Loading model weights took 10.4179 GB\n",
            "INFO 10-01 20:28:38 gpu_executor.py:114] # GPU blocks: 187, # CPU blocks: 409\n",
            "INFO 10-01 20:28:43 model_runner.py:937] Capturing the model for CUDA graphs. This may lead to unexpected consequences if the model is not static. To run the model in eager mode, set 'enforce_eager=True' or use '--enforce-eager' in the CLI.\n",
            "INFO 10-01 20:28:43 model_runner.py:941] CUDA graphs can take additional 1~3 GiB memory per GPU. If you are running out of memory, consider decreasing `gpu_memory_utilization` or enforcing eager mode. You can also reduce the `max_num_seqs` as needed to decrease memory usage.\n",
            "INFO 10-01 20:29:13 model_runner.py:1017] Graph capturing finished in 30 secs.\n",
            "Special tokens have been added in the vocabulary, make sure the associated word embeddings are fine-tuned or trained.\n",
            "ZERO-SHOT: OK\n",
            "----------------------------------------------------------------------------------------------------\n",
            "Your prompt: I have 3 apples, my dad has 2 more apples than me, how many apples do we have in total?\n",
            "\n",
            "CoT-Decoding Paths:\n",
            "\n",
            "\t(k=0) Reasoning Text:  We have 5 apples in total.\n",
            " (Score: 0.6773) (Span: 5)\n",
            "\t(k=1) Reasoning Text:  You have 3 apples and your dad has 5 apples, so you have 8 apples in total.\n",
            " (Score: 0.3466) (Span: 8)\n",
            "\t(k=2) Reasoning Text:  To find the total number of apples, we need to add the number of apples you have (3) to the number of apples your dad has (2 more than you, which is 3 + 2 = 5). So, you and your dad have a total of 3 + 5 = 8 apples.\n",
            "\n",
            " (Score: 0.9845) (Span: 8)\n",
            "\t(k=3) Reasoning Text:  Your dad has 5 apples and you have 3 apples, so you have 8 apples in total.\n",
            " (Score: 0.3692) (Span: 8)\n",
            "\t(k=4) Reasoning Text: We have 5 apples in total.\n",
            " (Score: 0.7439) (Span: 5)\n",
            "\t(k=5) Reasoning Text:  5 apples.\n",
            " (Score: 0.0358) (Span: 5)\n",
            "\t(k=6) Reasoning Text:  Let's use algebra to solve this problem. Let's say the number of apples you have is x. Then, your dad has x + 2 apples. The total number of apples is x + (x + 2) = 2x + 2. If you have 3 apples, then x = 3. Therefore, the total number of apples is 2(3) + 2 = 8.\n",
            " (Score: 0.9302) (Span: 8.)\n",
            "\t(k=7) Reasoning Text:  My dad has 5 apples and I have 3 apples, so we have 8 apples in total.\n",
            "\n",
            " (Score: 0.4614) (Span: 8)\n",
            "\t(k=8) Reasoning Text:  The total number of apples is 5.\n",
            " (Score: 0.8735) (Span: 5.)\n",
            "\t(k=9) Reasoning Text:  I have 3 apples and my dad has 5 apples, so we have 8 apples in total.\n",
            "\n",
            " (Score: 0.4824) (Span: 8)\n"
          ]
        }
      ]
    },
    {
      "cell_type": "markdown",
      "source": [
        "# Evaluation"
      ],
      "metadata": {
        "id": "LIyDm4Ap9qiS"
      }
    },
    {
      "cell_type": "code",
      "source": [
        "!python3 main.py --choice evaluating --model microsoft/phi-2 --topk 10 --dataset multiarith"
      ],
      "metadata": {
        "colab": {
          "base_uri": "https://localhost:8080/"
        },
        "id": "xYjVcdPmCrVz",
        "outputId": "d5bfc452-ac88-4ae0-fdf7-7900106be9bb"
      },
      "execution_count": null,
      "outputs": [
        {
          "output_type": "stream",
          "name": "stdout",
          "text": [
            "2024-10-01 20:36:12.978133: E external/local_xla/xla/stream_executor/cuda/cuda_fft.cc:485] Unable to register cuFFT factory: Attempting to register factory for plugin cuFFT when one has already been registered\n",
            "2024-10-01 20:36:13.022690: E external/local_xla/xla/stream_executor/cuda/cuda_dnn.cc:8454] Unable to register cuDNN factory: Attempting to register factory for plugin cuDNN when one has already been registered\n",
            "2024-10-01 20:36:13.035520: E external/local_xla/xla/stream_executor/cuda/cuda_blas.cc:1452] Unable to register cuBLAS factory: Attempting to register factory for plugin cuBLAS when one has already been registered\n",
            "2024-10-01 20:36:15.350690: W tensorflow/compiler/tf2tensorrt/utils/py_utils.cc:38] TF-TRT Warning: Could not find TensorRT\n",
            "INFO 10-01 20:36:20 llm_engine.py:100] Initializing an LLM engine (v0.4.2) with config: model='microsoft/phi-2', speculative_config=None, tokenizer='microsoft/phi-2', skip_tokenizer_init=False, tokenizer_mode=auto, revision=None, tokenizer_revision=None, trust_remote_code=False, dtype=torch.float32, max_seq_len=2048, download_dir=None, load_format=LoadFormat.AUTO, tensor_parallel_size=1, disable_custom_all_reduce=False, quantization=None, enforce_eager=False, kv_cache_dtype=auto, quantization_param_path=None, device_config=cuda, decoding_config=DecodingConfig(guided_decoding_backend='outlines'), seed=123, served_model_name=microsoft/phi-2)\n",
            "Special tokens have been added in the vocabulary, make sure the associated word embeddings are fine-tuned or trained.\n",
            "INFO 10-01 20:36:20 utils.py:660] Found nccl from library /root/.config/vllm/nccl/cu12/libnccl.so.2.18.1\n",
            "INFO 10-01 20:36:20 selector.py:69] Cannot use FlashAttention-2 backend for Volta and Turing GPUs.\n",
            "INFO 10-01 20:36:20 selector.py:32] Using XFormers backend.\n",
            "INFO 10-01 20:36:22 weight_utils.py:199] Using model weights format ['*.safetensors']\n",
            "INFO 10-01 20:36:45 model_runner.py:175] Loading model weights took 10.4179 GB\n",
            "INFO 10-01 20:36:49 gpu_executor.py:114] # GPU blocks: 187, # CPU blocks: 409\n",
            "INFO 10-01 20:36:52 model_runner.py:937] Capturing the model for CUDA graphs. This may lead to unexpected consequences if the model is not static. To run the model in eager mode, set 'enforce_eager=True' or use '--enforce-eager' in the CLI.\n",
            "INFO 10-01 20:36:52 model_runner.py:941] CUDA graphs can take additional 1~3 GiB memory per GPU. If you are running out of memory, consider decreasing `gpu_memory_utilization` or enforcing eager mode. You can also reduce the `max_num_seqs` as needed to decrease memory usage.\n",
            "INFO 10-01 20:37:13 model_runner.py:1017] Graph capturing finished in 20 secs.\n",
            "Special tokens have been added in the vocabulary, make sure the associated word embeddings are fine-tuned or trained.\n",
            "ZERO-SHOT: OK\n",
            "multiarith: 100% 180/180 [32:52<00:00, 10.96s/it]\n",
            "--- Evaluation using Exact Match for multiarith ---\n",
            "\tGreedy Decoding: 0.6056\n",
            "\tCoT-Decoding (max): 0.7278\n",
            "\tCoT-Decoding (agg): 0.9500\n"
          ]
        }
      ]
    }
  ]
}