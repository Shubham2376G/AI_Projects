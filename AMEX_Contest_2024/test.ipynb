{
 "cells": [
  {
   "cell_type": "code",
   "execution_count": 2,
   "metadata": {},
   "outputs": [],
   "source": [
    "import numpy as np\n",
    "import pandas as pd\n",
    "import matplotlib.pyplot as plt"
   ]
  },
  {
   "cell_type": "code",
   "execution_count": 3,
   "metadata": {},
   "outputs": [],
   "source": [
    "df_bowler = pd.read_csv('663e2b2c60743_bowler_level_scorecard.csv')\n",
    "df_train = pd.read_csv('663e2b6d54457_train_data_with_samplefeatures.csv')\n",
    "df_test = pd.read_csv('6644a1e287df6_test_data_with_samplefeatures.csv')\n",
    "df_batsman = pd.read_csv('663e2b548c98c_batsman_level_scorecard.csv')\n",
    "df_match = pd.read_csv('664389efa0868_match_level_scorecard.csv')"
   ]
  },
  {
   "cell_type": "code",
   "execution_count": 4,
   "metadata": {},
   "outputs": [
    {
     "data": {
      "text/plain": [
       "Index(['match id', 'team1', 'team1_id', 'team1_roster_ids', 'team2',\n",
       "       'team2_id', 'team2_roster_ids', 'winner', 'winner_id', 'toss winner',\n",
       "       'toss decision', 'venue', 'city', 'match_dt', 'lighting', 'series_name',\n",
       "       'season', 'ground_id', 'team_count_50runs_last15', 'team_winp_last5',\n",
       "       'team1only_avg_runs_last15', 'team1_winp_team2_last15',\n",
       "       'ground_avg_runs_last15'],\n",
       "      dtype='object')"
      ]
     },
     "execution_count": 4,
     "metadata": {},
     "output_type": "execute_result"
    }
   ],
   "source": [
    "df_train.columns"
   ]
  },
  {
   "cell_type": "code",
   "execution_count": 5,
   "metadata": {},
   "outputs": [
    {
     "data": {
      "text/plain": [
       "69"
      ]
     },
     "execution_count": 5,
     "metadata": {},
     "output_type": "execute_result"
    }
   ],
   "source": [
    "df_match.shape[1] + df_batsman.shape[1] + df_bowler.shape[1] #+ df_train.shape[1] + df_test.shape[1] "
   ]
  }
 ],
 "metadata": {
  "kernelspec": {
   "display_name": "Python 3",
   "language": "python",
   "name": "python3"
  },
  "language_info": {
   "codemirror_mode": {
    "name": "ipython",
    "version": 3
   },
   "file_extension": ".py",
   "mimetype": "text/x-python",
   "name": "python",
   "nbconvert_exporter": "python",
   "pygments_lexer": "ipython3",
   "version": "3.12.1"
  }
 },
 "nbformat": 4,
 "nbformat_minor": 2
}
